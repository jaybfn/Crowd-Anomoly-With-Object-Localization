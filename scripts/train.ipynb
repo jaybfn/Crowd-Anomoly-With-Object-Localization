{
 "cells": [
  {
   "cell_type": "code",
   "execution_count": 1,
   "metadata": {},
   "outputs": [],
   "source": [
    "# import the necessary packages\n",
    "import config\n",
    "from tensorflow.keras.applications import VGG16\n",
    "from tensorflow.keras.layers import Flatten\n",
    "from tensorflow.keras.layers import Dropout\n",
    "from tensorflow.keras.layers import Dense\n",
    "from tensorflow.keras.layers import Input\n",
    "from tensorflow.keras.models import Model\n",
    "from tensorflow.keras.optimizers import Adam\n",
    "from tensorflow.keras.preprocessing.image import img_to_array\n",
    "from tensorflow.keras.preprocessing.image import load_img\n",
    "from tensorflow.keras.utils import to_categorical\n",
    "from sklearn.preprocessing import LabelBinarizer\n",
    "from sklearn.model_selection import train_test_split\n",
    "from imutils import paths\n",
    "import matplotlib.pyplot as plt\n",
    "import numpy as np\n",
    "import pandas as pd\n",
    "import pickle\n",
    "import cv2\n",
    "import os"
   ]
  },
  {
   "cell_type": "code",
   "execution_count": 2,
   "metadata": {},
   "outputs": [
    {
     "name": "stdout",
     "output_type": "stream",
     "text": [
      "[INFO] loading dataset...\n"
     ]
    }
   ],
   "source": [
    "# load the contents of the CSV annotations file\n",
    "print(\"[INFO] loading dataset...\")\n",
    "ANNOT_PATH = config.ANNOTS_PATH"
   ]
  },
  {
   "cell_type": "code",
   "execution_count": 3,
   "metadata": {},
   "outputs": [],
   "source": [
    "ANNOTS = pd.read_csv(ANNOT_PATH, index_col=0)\n",
    "ANNOTS['filename'] = ANNOTS['filename'].astype('string')\n",
    "ANNOTS['class'] = ANNOTS['class'].astype('string')"
   ]
  },
  {
   "cell_type": "code",
   "execution_count": 4,
   "metadata": {},
   "outputs": [],
   "source": [
    "#ANNOTS.dtypes\n",
    "ANNOTS['img_filename'] = ANNOTS.filename.str.split(pat='.',n = 1, expand = True)[0]"
   ]
  },
  {
   "cell_type": "code",
   "execution_count": 5,
   "metadata": {},
   "outputs": [],
   "source": [
    "ANNOTS['img_filename'] = ANNOTS['img_filename']+'.jpg'"
   ]
  },
  {
   "cell_type": "code",
   "execution_count": 6,
   "metadata": {},
   "outputs": [
    {
     "data": {
      "text/plain": [
       "filename        string\n",
       "startX           int64\n",
       "startY           int64\n",
       "endX             int64\n",
       "endY             int64\n",
       "class           string\n",
       "img_filename    string\n",
       "dtype: object"
      ]
     },
     "execution_count": 6,
     "metadata": {},
     "output_type": "execute_result"
    }
   ],
   "source": [
    "ANNOTS.dtypes"
   ]
  },
  {
   "cell_type": "code",
   "execution_count": 7,
   "metadata": {},
   "outputs": [
    {
     "data": {
      "text/plain": [
       "'../data/ucf_action/Running\\\\001'"
      ]
     },
     "execution_count": 7,
     "metadata": {},
     "output_type": "execute_result"
    }
   ],
   "source": [
    "config.IMAGE_PATH"
   ]
  },
  {
   "cell_type": "code",
   "execution_count": 8,
   "metadata": {},
   "outputs": [],
   "source": [
    "# derive the path to the input image, load the image (in OpenCV\n",
    "# format), and grab its dimensions\n",
    "imagePath =config.IMAGE_PATH + '/' + ANNOTS.img_filename\n",
    "data = []\n",
    "for path in imagePath:\n",
    "    image = cv2.imread(imagePath[1])\n",
    "    (h, w) = image.shape[:2]\n",
    "    # scale the bounding box coordinates relative to the spatial\n",
    "\t# dimensions of the input image\n",
    "    startX = ANNOTS['startX'].astype(float) / w\n",
    "    startY = ANNOTS['startY'].astype(float) / h\n",
    "    endX = ANNOTS['endX'].astype(float) / w\n",
    "    endY = ANNOTS['endY'].astype(float) / h\n",
    "\n",
    "    img_cord = {'startX': startX, 'startY': startY, 'endX': endX, 'endY': endY}\n",
    "    img_cord_df = pd.DataFrame(img_cord)\n",
    "    # load the image and preprocess it\n",
    "    image = load_img(path, target_size=(224, 224))\n",
    "    image = img_to_array(image)\n",
    "    # update our list of data, targets, and filenames\n",
    "    data.append(image)\n",
    "\n",
    "\n"
   ]
  },
  {
   "cell_type": "code",
   "execution_count": 9,
   "metadata": {},
   "outputs": [],
   "source": [
    "# converting dataframe img_cord_df to list\n",
    "\n",
    "targets = img_cord_df.values.tolist()\n",
    "labels = ANNOTS['class'].values.tolist()"
   ]
  },
  {
   "cell_type": "code",
   "execution_count": 10,
   "metadata": {},
   "outputs": [],
   "source": [
    "# convert the data and targets to NumPy arrays, scaling the input\n",
    "# pixel intensities from the range [0, 255] to [0, 1]\n",
    "data = np.array(data, dtype=\"float32\") / 255.0\n",
    "targets = np.array(targets, dtype=\"float32\")\n",
    "labels = np.array(labels)\n"
   ]
  },
  {
   "cell_type": "code",
   "execution_count": 11,
   "metadata": {},
   "outputs": [],
   "source": [
    "# perform one-hot encoding on the labels\n",
    "lb = LabelBinarizer()\n",
    "labels = lb.fit_transform(labels)"
   ]
  },
  {
   "cell_type": "code",
   "execution_count": 12,
   "metadata": {},
   "outputs": [],
   "source": [
    "filenames = ANNOTS.img_filename.tolist()"
   ]
  },
  {
   "cell_type": "code",
   "execution_count": 13,
   "metadata": {},
   "outputs": [
    {
     "name": "stdout",
     "output_type": "stream",
     "text": [
      "[INFO] saving testing image paths...\n"
     ]
    }
   ],
   "source": [
    "# partition the data into training and testing splits using 90% of\n",
    "# the data for training and the remaining 10% for testing\n",
    "split = train_test_split(data, labels, targets, filenames,\n",
    "\ttest_size=0.20, random_state=42)\n",
    "# unpack the data split\n",
    "(trainImages, testImages) = split[:2]\n",
    "(trainLabels, testLabels) = split[2:4]\n",
    "(trainBBoxes, testBBoxes) = split[4:6]\n",
    "(trainPaths, testPaths) = split[6:]\n",
    "# write the testing filenames to disk so that we can use then\n",
    "# when evaluating/testing our bounding box regressor\n",
    "print(\"[INFO] saving testing image paths...\")\n",
    "f = open(config.TEST_PATHS, \"w\")\n",
    "f.write(\"\\n\".join(testPaths))\n",
    "f.close()"
   ]
  },
  {
   "cell_type": "code",
   "execution_count": 14,
   "metadata": {},
   "outputs": [],
   "source": [
    "# load the VGG16 network, ensuring the head FC layers are left off\n",
    "vgg = VGG16(weights=\"imagenet\", include_top=False,\n",
    "\tinput_tensor=Input(shape=(224, 224, 3)))\n",
    "# freeze all VGG layers so they will *not* be updated during the\n",
    "# training process\n",
    "vgg.trainable = False\n",
    "# flatten the max-pooling output of VGG\n",
    "flatten = vgg.output\n",
    "flatten = Flatten()(flatten)"
   ]
  },
  {
   "cell_type": "code",
   "execution_count": 15,
   "metadata": {},
   "outputs": [],
   "source": [
    "# construct a fully-connected layer header to output the predicted\n",
    "# bounding box coordinates\n",
    "bboxHead = Dense(256, activation=\"relu\")(flatten)\n",
    "bboxHead = Dense(128, activation=\"relu\")(bboxHead)\n",
    "bboxHead = Dense(64, activation=\"relu\")(bboxHead)\n",
    "bboxHead = Dense(4, activation=\"sigmoid\",name=\"bounding_box\")(bboxHead)\n",
    "# construct a second fully-connected layer head, this one to predict\n",
    "# the class label\n",
    "softmaxHead = Dense(512, activation=\"relu\")(flatten)\n",
    "softmaxHead = Dropout(0.2)(softmaxHead)\n",
    "softmaxHead = Dense(512, activation=\"relu\")(softmaxHead)\n",
    "softmaxHead = Dropout(0.2)(softmaxHead)\n",
    "softmaxHead = Dense(len(lb.classes_), activation=\"softmax\",\n",
    "\tname=\"class_label\")(softmaxHead)\n",
    "# put together our model which accept an input image and then output\n",
    "# bounding box coordinates and a class label\n",
    "model = Model(\n",
    "\tinputs=vgg.input,\n",
    "\toutputs=(bboxHead, softmaxHead))"
   ]
  },
  {
   "cell_type": "code",
   "execution_count": 16,
   "metadata": {},
   "outputs": [
    {
     "name": "stdout",
     "output_type": "stream",
     "text": [
      "Model: \"model\"\n",
      "__________________________________________________________________________________________________\n",
      " Layer (type)                   Output Shape         Param #     Connected to                     \n",
      "==================================================================================================\n",
      " input_1 (InputLayer)           [(None, 224, 224, 3  0           []                               \n",
      "                                )]                                                                \n",
      "                                                                                                  \n",
      " block1_conv1 (Conv2D)          (None, 224, 224, 64  1792        ['input_1[0][0]']                \n",
      "                                )                                                                 \n",
      "                                                                                                  \n",
      " block1_conv2 (Conv2D)          (None, 224, 224, 64  36928       ['block1_conv1[0][0]']           \n",
      "                                )                                                                 \n",
      "                                                                                                  \n",
      " block1_pool (MaxPooling2D)     (None, 112, 112, 64  0           ['block1_conv2[0][0]']           \n",
      "                                )                                                                 \n",
      "                                                                                                  \n",
      " block2_conv1 (Conv2D)          (None, 112, 112, 12  73856       ['block1_pool[0][0]']            \n",
      "                                8)                                                                \n",
      "                                                                                                  \n",
      " block2_conv2 (Conv2D)          (None, 112, 112, 12  147584      ['block2_conv1[0][0]']           \n",
      "                                8)                                                                \n",
      "                                                                                                  \n",
      " block2_pool (MaxPooling2D)     (None, 56, 56, 128)  0           ['block2_conv2[0][0]']           \n",
      "                                                                                                  \n",
      " block3_conv1 (Conv2D)          (None, 56, 56, 256)  295168      ['block2_pool[0][0]']            \n",
      "                                                                                                  \n",
      " block3_conv2 (Conv2D)          (None, 56, 56, 256)  590080      ['block3_conv1[0][0]']           \n",
      "                                                                                                  \n",
      " block3_conv3 (Conv2D)          (None, 56, 56, 256)  590080      ['block3_conv2[0][0]']           \n",
      "                                                                                                  \n",
      " block3_pool (MaxPooling2D)     (None, 28, 28, 256)  0           ['block3_conv3[0][0]']           \n",
      "                                                                                                  \n",
      " block4_conv1 (Conv2D)          (None, 28, 28, 512)  1180160     ['block3_pool[0][0]']            \n",
      "                                                                                                  \n",
      " block4_conv2 (Conv2D)          (None, 28, 28, 512)  2359808     ['block4_conv1[0][0]']           \n",
      "                                                                                                  \n",
      " block4_conv3 (Conv2D)          (None, 28, 28, 512)  2359808     ['block4_conv2[0][0]']           \n",
      "                                                                                                  \n",
      " block4_pool (MaxPooling2D)     (None, 14, 14, 512)  0           ['block4_conv3[0][0]']           \n",
      "                                                                                                  \n",
      " block5_conv1 (Conv2D)          (None, 14, 14, 512)  2359808     ['block4_pool[0][0]']            \n",
      "                                                                                                  \n",
      " block5_conv2 (Conv2D)          (None, 14, 14, 512)  2359808     ['block5_conv1[0][0]']           \n",
      "                                                                                                  \n",
      " block5_conv3 (Conv2D)          (None, 14, 14, 512)  2359808     ['block5_conv2[0][0]']           \n",
      "                                                                                                  \n",
      " block5_pool (MaxPooling2D)     (None, 7, 7, 512)    0           ['block5_conv3[0][0]']           \n",
      "                                                                                                  \n",
      " flatten (Flatten)              (None, 25088)        0           ['block5_pool[0][0]']            \n",
      "                                                                                                  \n",
      " dense_3 (Dense)                (None, 512)          12845568    ['flatten[0][0]']                \n",
      "                                                                                                  \n",
      " dense (Dense)                  (None, 256)          6422784     ['flatten[0][0]']                \n",
      "                                                                                                  \n",
      " dropout (Dropout)              (None, 512)          0           ['dense_3[0][0]']                \n",
      "                                                                                                  \n",
      " dense_1 (Dense)                (None, 128)          32896       ['dense[0][0]']                  \n",
      "                                                                                                  \n",
      " dense_4 (Dense)                (None, 512)          262656      ['dropout[0][0]']                \n",
      "                                                                                                  \n",
      " dense_2 (Dense)                (None, 64)           8256        ['dense_1[0][0]']                \n",
      "                                                                                                  \n",
      " dropout_1 (Dropout)            (None, 512)          0           ['dense_4[0][0]']                \n",
      "                                                                                                  \n",
      " bounding_box (Dense)           (None, 4)            260         ['dense_2[0][0]']                \n",
      "                                                                                                  \n",
      " class_label (Dense)            (None, 1)            513         ['dropout_1[0][0]']              \n",
      "                                                                                                  \n",
      "==================================================================================================\n",
      "Total params: 34,287,621\n",
      "Trainable params: 19,572,933\n",
      "Non-trainable params: 14,714,688\n",
      "__________________________________________________________________________________________________\n",
      "None\n"
     ]
    }
   ],
   "source": [
    "# define a dictionary to set the loss methods -- categorical\n",
    "# cross-entropy for the class label head and mean absolute error\n",
    "# for the bounding box head\n",
    "losses = {\n",
    "\t\"class_label\": \"categorical_crossentropy\",\n",
    "\t\"bounding_box\": \"mean_squared_error\",\n",
    "}\n",
    "# define a dictionary that specifies the weights per loss (both the\n",
    "# class label and bounding box outputs will receive equal weight)\n",
    "lossWeights = {\n",
    "\t\"class_label\": 1.0,\n",
    "\t\"bounding_box\": 1.0\n",
    "}\n",
    "# initialize the optimizer, compile the model, and show the model\n",
    "# summary\n",
    "opt = Adam(learning_rate=config.INIT_LR)\n",
    "model.compile(loss=losses, optimizer=opt, metrics=[\"accuracy\"], loss_weights=lossWeights)\n",
    "print(model.summary())\n"
   ]
  },
  {
   "cell_type": "code",
   "execution_count": 17,
   "metadata": {},
   "outputs": [],
   "source": [
    "# construct a dictionary for our target training outputs\n",
    "trainTargets = {\n",
    "\t\"class_label\": trainLabels,\n",
    "\t\"bounding_box\": trainBBoxes\n",
    "}\n",
    "# construct a second dictionary, this one for our target testing\n",
    "# outputs\n",
    "testTargets = {\n",
    "\t\"class_label\": testLabels,\n",
    "\t\"bounding_box\": testBBoxes\n",
    "}"
   ]
  },
  {
   "cell_type": "code",
   "execution_count": 18,
   "metadata": {},
   "outputs": [
    {
     "name": "stdout",
     "output_type": "stream",
     "text": [
      "[INFO] training model...\n",
      "Epoch 1/100\n",
      "43/43 [==============================] - 12s 107ms/step - loss: 0.0277 - bounding_box_loss: 0.0277 - class_label_loss: 0.0000e+00 - bounding_box_accuracy: 0.8417 - class_label_accuracy: 0.0000e+00 - val_loss: 0.0118 - val_bounding_box_loss: 0.0118 - val_class_label_loss: 0.0000e+00 - val_bounding_box_accuracy: 0.9882 - val_class_label_accuracy: 0.0000e+00\n",
      "Epoch 2/100\n",
      "43/43 [==============================] - 3s 67ms/step - loss: 0.0098 - bounding_box_loss: 0.0098 - class_label_loss: 0.0000e+00 - bounding_box_accuracy: 0.9630 - class_label_accuracy: 0.0000e+00 - val_loss: 0.0058 - val_bounding_box_loss: 0.0058 - val_class_label_loss: 0.0000e+00 - val_bounding_box_accuracy: 0.9882 - val_class_label_accuracy: 0.0000e+00\n",
      "Epoch 3/100\n",
      "43/43 [==============================] - 3s 67ms/step - loss: 0.0058 - bounding_box_loss: 0.0058 - class_label_loss: 0.0000e+00 - bounding_box_accuracy: 0.9630 - class_label_accuracy: 0.0000e+00 - val_loss: 0.0041 - val_bounding_box_loss: 0.0041 - val_class_label_loss: 0.0000e+00 - val_bounding_box_accuracy: 0.9882 - val_class_label_accuracy: 0.0000e+00\n",
      "Epoch 4/100\n",
      "43/43 [==============================] - 3s 65ms/step - loss: 0.0043 - bounding_box_loss: 0.0043 - class_label_loss: 0.0000e+00 - bounding_box_accuracy: 0.9630 - class_label_accuracy: 0.0000e+00 - val_loss: 0.0034 - val_bounding_box_loss: 0.0034 - val_class_label_loss: 0.0000e+00 - val_bounding_box_accuracy: 0.9882 - val_class_label_accuracy: 0.0000e+00\n",
      "Epoch 5/100\n",
      "43/43 [==============================] - 3s 66ms/step - loss: 0.0036 - bounding_box_loss: 0.0036 - class_label_loss: 0.0000e+00 - bounding_box_accuracy: 0.9675 - class_label_accuracy: 0.0000e+00 - val_loss: 0.0030 - val_bounding_box_loss: 0.0030 - val_class_label_loss: 0.0000e+00 - val_bounding_box_accuracy: 0.9882 - val_class_label_accuracy: 0.0000e+00\n",
      "Epoch 6/100\n",
      "43/43 [==============================] - 3s 68ms/step - loss: 0.0030 - bounding_box_loss: 0.0030 - class_label_loss: 0.0000e+00 - bounding_box_accuracy: 0.9675 - class_label_accuracy: 0.0000e+00 - val_loss: 0.0028 - val_bounding_box_loss: 0.0028 - val_class_label_loss: 0.0000e+00 - val_bounding_box_accuracy: 0.9941 - val_class_label_accuracy: 0.0000e+00\n",
      "Epoch 7/100\n",
      "43/43 [==============================] - 3s 68ms/step - loss: 0.0026 - bounding_box_loss: 0.0026 - class_label_loss: 0.0000e+00 - bounding_box_accuracy: 0.9793 - class_label_accuracy: 0.0000e+00 - val_loss: 0.0026 - val_bounding_box_loss: 0.0026 - val_class_label_loss: 0.0000e+00 - val_bounding_box_accuracy: 0.9941 - val_class_label_accuracy: 0.0000e+00\n",
      "Epoch 8/100\n",
      "43/43 [==============================] - 3s 68ms/step - loss: 0.0024 - bounding_box_loss: 0.0024 - class_label_loss: 0.0000e+00 - bounding_box_accuracy: 0.9793 - class_label_accuracy: 0.0000e+00 - val_loss: 0.0025 - val_bounding_box_loss: 0.0025 - val_class_label_loss: 0.0000e+00 - val_bounding_box_accuracy: 0.9941 - val_class_label_accuracy: 0.0000e+00\n",
      "Epoch 9/100\n",
      "43/43 [==============================] - 3s 68ms/step - loss: 0.0023 - bounding_box_loss: 0.0023 - class_label_loss: 0.0000e+00 - bounding_box_accuracy: 0.9867 - class_label_accuracy: 0.0000e+00 - val_loss: 0.0024 - val_bounding_box_loss: 0.0024 - val_class_label_loss: 0.0000e+00 - val_bounding_box_accuracy: 0.9941 - val_class_label_accuracy: 0.0000e+00\n",
      "Epoch 10/100\n",
      "43/43 [==============================] - 3s 69ms/step - loss: 0.0021 - bounding_box_loss: 0.0021 - class_label_loss: 0.0000e+00 - bounding_box_accuracy: 0.9882 - class_label_accuracy: 0.0000e+00 - val_loss: 0.0025 - val_bounding_box_loss: 0.0025 - val_class_label_loss: 0.0000e+00 - val_bounding_box_accuracy: 0.9941 - val_class_label_accuracy: 0.0000e+00\n",
      "Epoch 11/100\n",
      "43/43 [==============================] - 3s 68ms/step - loss: 0.0020 - bounding_box_loss: 0.0020 - class_label_loss: 0.0000e+00 - bounding_box_accuracy: 0.9896 - class_label_accuracy: 0.0000e+00 - val_loss: 0.0022 - val_bounding_box_loss: 0.0022 - val_class_label_loss: 0.0000e+00 - val_bounding_box_accuracy: 0.9941 - val_class_label_accuracy: 0.0000e+00\n",
      "Epoch 12/100\n",
      "43/43 [==============================] - 3s 66ms/step - loss: 0.0019 - bounding_box_loss: 0.0019 - class_label_loss: 0.0000e+00 - bounding_box_accuracy: 0.9896 - class_label_accuracy: 0.0000e+00 - val_loss: 0.0022 - val_bounding_box_loss: 0.0022 - val_class_label_loss: 0.0000e+00 - val_bounding_box_accuracy: 0.9941 - val_class_label_accuracy: 0.0000e+00\n",
      "Epoch 13/100\n",
      "43/43 [==============================] - 3s 68ms/step - loss: 0.0018 - bounding_box_loss: 0.0018 - class_label_loss: 0.0000e+00 - bounding_box_accuracy: 0.9896 - class_label_accuracy: 0.0000e+00 - val_loss: 0.0021 - val_bounding_box_loss: 0.0021 - val_class_label_loss: 0.0000e+00 - val_bounding_box_accuracy: 0.9941 - val_class_label_accuracy: 0.0000e+00\n",
      "Epoch 14/100\n",
      "43/43 [==============================] - 3s 66ms/step - loss: 0.0017 - bounding_box_loss: 0.0017 - class_label_loss: 0.0000e+00 - bounding_box_accuracy: 0.9911 - class_label_accuracy: 0.0000e+00 - val_loss: 0.0021 - val_bounding_box_loss: 0.0021 - val_class_label_loss: 0.0000e+00 - val_bounding_box_accuracy: 0.9941 - val_class_label_accuracy: 0.0000e+00\n",
      "Epoch 15/100\n",
      "43/43 [==============================] - 3s 66ms/step - loss: 0.0017 - bounding_box_loss: 0.0017 - class_label_loss: 0.0000e+00 - bounding_box_accuracy: 0.9956 - class_label_accuracy: 0.0000e+00 - val_loss: 0.0020 - val_bounding_box_loss: 0.0020 - val_class_label_loss: 0.0000e+00 - val_bounding_box_accuracy: 1.0000 - val_class_label_accuracy: 0.0000e+00\n",
      "Epoch 16/100\n",
      "43/43 [==============================] - 3s 67ms/step - loss: 0.0016 - bounding_box_loss: 0.0016 - class_label_loss: 0.0000e+00 - bounding_box_accuracy: 0.9970 - class_label_accuracy: 0.0000e+00 - val_loss: 0.0020 - val_bounding_box_loss: 0.0020 - val_class_label_loss: 0.0000e+00 - val_bounding_box_accuracy: 0.9941 - val_class_label_accuracy: 0.0000e+00\n",
      "Epoch 17/100\n",
      "43/43 [==============================] - 3s 67ms/step - loss: 0.0016 - bounding_box_loss: 0.0016 - class_label_loss: 0.0000e+00 - bounding_box_accuracy: 0.9941 - class_label_accuracy: 0.0000e+00 - val_loss: 0.0020 - val_bounding_box_loss: 0.0020 - val_class_label_loss: 0.0000e+00 - val_bounding_box_accuracy: 0.9941 - val_class_label_accuracy: 0.0000e+00\n",
      "Epoch 18/100\n",
      "43/43 [==============================] - 3s 67ms/step - loss: 0.0016 - bounding_box_loss: 0.0016 - class_label_loss: 0.0000e+00 - bounding_box_accuracy: 0.9956 - class_label_accuracy: 0.0000e+00 - val_loss: 0.0020 - val_bounding_box_loss: 0.0020 - val_class_label_loss: 0.0000e+00 - val_bounding_box_accuracy: 1.0000 - val_class_label_accuracy: 0.0000e+00\n",
      "Epoch 19/100\n",
      "43/43 [==============================] - 3s 66ms/step - loss: 0.0015 - bounding_box_loss: 0.0015 - class_label_loss: 0.0000e+00 - bounding_box_accuracy: 0.9956 - class_label_accuracy: 0.0000e+00 - val_loss: 0.0019 - val_bounding_box_loss: 0.0019 - val_class_label_loss: 0.0000e+00 - val_bounding_box_accuracy: 0.9941 - val_class_label_accuracy: 0.0000e+00\n",
      "Epoch 20/100\n",
      "43/43 [==============================] - 3s 66ms/step - loss: 0.0015 - bounding_box_loss: 0.0015 - class_label_loss: 0.0000e+00 - bounding_box_accuracy: 0.9985 - class_label_accuracy: 0.0000e+00 - val_loss: 0.0019 - val_bounding_box_loss: 0.0019 - val_class_label_loss: 0.0000e+00 - val_bounding_box_accuracy: 0.9941 - val_class_label_accuracy: 0.0000e+00\n",
      "Epoch 21/100\n",
      "43/43 [==============================] - 3s 66ms/step - loss: 0.0015 - bounding_box_loss: 0.0015 - class_label_loss: 0.0000e+00 - bounding_box_accuracy: 0.9956 - class_label_accuracy: 0.0000e+00 - val_loss: 0.0019 - val_bounding_box_loss: 0.0019 - val_class_label_loss: 0.0000e+00 - val_bounding_box_accuracy: 1.0000 - val_class_label_accuracy: 0.0000e+00\n",
      "Epoch 22/100\n",
      "43/43 [==============================] - 3s 65ms/step - loss: 0.0014 - bounding_box_loss: 0.0014 - class_label_loss: 0.0000e+00 - bounding_box_accuracy: 1.0000 - class_label_accuracy: 0.0000e+00 - val_loss: 0.0019 - val_bounding_box_loss: 0.0019 - val_class_label_loss: 0.0000e+00 - val_bounding_box_accuracy: 1.0000 - val_class_label_accuracy: 0.0000e+00\n",
      "Epoch 23/100\n",
      "43/43 [==============================] - 3s 66ms/step - loss: 0.0014 - bounding_box_loss: 0.0014 - class_label_loss: 0.0000e+00 - bounding_box_accuracy: 0.9970 - class_label_accuracy: 0.0000e+00 - val_loss: 0.0019 - val_bounding_box_loss: 0.0019 - val_class_label_loss: 0.0000e+00 - val_bounding_box_accuracy: 0.9941 - val_class_label_accuracy: 0.0000e+00\n",
      "Epoch 24/100\n",
      "43/43 [==============================] - 3s 66ms/step - loss: 0.0014 - bounding_box_loss: 0.0014 - class_label_loss: 0.0000e+00 - bounding_box_accuracy: 0.9970 - class_label_accuracy: 0.0000e+00 - val_loss: 0.0018 - val_bounding_box_loss: 0.0018 - val_class_label_loss: 0.0000e+00 - val_bounding_box_accuracy: 1.0000 - val_class_label_accuracy: 0.0000e+00\n",
      "Epoch 25/100\n",
      "43/43 [==============================] - 3s 66ms/step - loss: 0.0014 - bounding_box_loss: 0.0014 - class_label_loss: 0.0000e+00 - bounding_box_accuracy: 1.0000 - class_label_accuracy: 0.0000e+00 - val_loss: 0.0018 - val_bounding_box_loss: 0.0018 - val_class_label_loss: 0.0000e+00 - val_bounding_box_accuracy: 0.9882 - val_class_label_accuracy: 0.0000e+00\n",
      "Epoch 26/100\n",
      "43/43 [==============================] - 3s 65ms/step - loss: 0.0014 - bounding_box_loss: 0.0014 - class_label_loss: 0.0000e+00 - bounding_box_accuracy: 0.9985 - class_label_accuracy: 0.0000e+00 - val_loss: 0.0018 - val_bounding_box_loss: 0.0018 - val_class_label_loss: 0.0000e+00 - val_bounding_box_accuracy: 0.9941 - val_class_label_accuracy: 0.0000e+00\n",
      "Epoch 27/100\n",
      "43/43 [==============================] - 3s 65ms/step - loss: 0.0014 - bounding_box_loss: 0.0014 - class_label_loss: 0.0000e+00 - bounding_box_accuracy: 1.0000 - class_label_accuracy: 0.0000e+00 - val_loss: 0.0019 - val_bounding_box_loss: 0.0019 - val_class_label_loss: 0.0000e+00 - val_bounding_box_accuracy: 1.0000 - val_class_label_accuracy: 0.0000e+00\n",
      "Epoch 28/100\n",
      "43/43 [==============================] - 3s 66ms/step - loss: 0.0014 - bounding_box_loss: 0.0014 - class_label_loss: 0.0000e+00 - bounding_box_accuracy: 0.9985 - class_label_accuracy: 0.0000e+00 - val_loss: 0.0018 - val_bounding_box_loss: 0.0018 - val_class_label_loss: 0.0000e+00 - val_bounding_box_accuracy: 0.9941 - val_class_label_accuracy: 0.0000e+00\n",
      "Epoch 29/100\n",
      "43/43 [==============================] - 3s 66ms/step - loss: 0.0013 - bounding_box_loss: 0.0013 - class_label_loss: 0.0000e+00 - bounding_box_accuracy: 1.0000 - class_label_accuracy: 0.0000e+00 - val_loss: 0.0018 - val_bounding_box_loss: 0.0018 - val_class_label_loss: 0.0000e+00 - val_bounding_box_accuracy: 1.0000 - val_class_label_accuracy: 0.0000e+00\n",
      "Epoch 30/100\n",
      "43/43 [==============================] - 3s 66ms/step - loss: 0.0013 - bounding_box_loss: 0.0013 - class_label_loss: 0.0000e+00 - bounding_box_accuracy: 0.9985 - class_label_accuracy: 0.0000e+00 - val_loss: 0.0018 - val_bounding_box_loss: 0.0018 - val_class_label_loss: 0.0000e+00 - val_bounding_box_accuracy: 0.9941 - val_class_label_accuracy: 0.0000e+00\n",
      "Epoch 31/100\n",
      "43/43 [==============================] - 3s 66ms/step - loss: 0.0013 - bounding_box_loss: 0.0013 - class_label_loss: 0.0000e+00 - bounding_box_accuracy: 0.9956 - class_label_accuracy: 0.0000e+00 - val_loss: 0.0018 - val_bounding_box_loss: 0.0018 - val_class_label_loss: 0.0000e+00 - val_bounding_box_accuracy: 0.9941 - val_class_label_accuracy: 0.0000e+00\n",
      "Epoch 32/100\n",
      "43/43 [==============================] - 3s 66ms/step - loss: 0.0013 - bounding_box_loss: 0.0013 - class_label_loss: 0.0000e+00 - bounding_box_accuracy: 0.9970 - class_label_accuracy: 0.0000e+00 - val_loss: 0.0018 - val_bounding_box_loss: 0.0018 - val_class_label_loss: 0.0000e+00 - val_bounding_box_accuracy: 1.0000 - val_class_label_accuracy: 0.0000e+00\n",
      "Epoch 33/100\n",
      "43/43 [==============================] - 3s 66ms/step - loss: 0.0013 - bounding_box_loss: 0.0013 - class_label_loss: 0.0000e+00 - bounding_box_accuracy: 0.9985 - class_label_accuracy: 0.0000e+00 - val_loss: 0.0018 - val_bounding_box_loss: 0.0018 - val_class_label_loss: 0.0000e+00 - val_bounding_box_accuracy: 1.0000 - val_class_label_accuracy: 0.0000e+00\n",
      "Epoch 34/100\n",
      "43/43 [==============================] - 3s 66ms/step - loss: 0.0013 - bounding_box_loss: 0.0013 - class_label_loss: 0.0000e+00 - bounding_box_accuracy: 0.9985 - class_label_accuracy: 0.0000e+00 - val_loss: 0.0018 - val_bounding_box_loss: 0.0018 - val_class_label_loss: 0.0000e+00 - val_bounding_box_accuracy: 1.0000 - val_class_label_accuracy: 0.0000e+00\n",
      "Epoch 35/100\n",
      "43/43 [==============================] - 3s 66ms/step - loss: 0.0013 - bounding_box_loss: 0.0013 - class_label_loss: 0.0000e+00 - bounding_box_accuracy: 1.0000 - class_label_accuracy: 0.0000e+00 - val_loss: 0.0018 - val_bounding_box_loss: 0.0018 - val_class_label_loss: 0.0000e+00 - val_bounding_box_accuracy: 1.0000 - val_class_label_accuracy: 0.0000e+00\n",
      "Epoch 36/100\n",
      "43/43 [==============================] - 3s 66ms/step - loss: 0.0013 - bounding_box_loss: 0.0013 - class_label_loss: 0.0000e+00 - bounding_box_accuracy: 1.0000 - class_label_accuracy: 0.0000e+00 - val_loss: 0.0018 - val_bounding_box_loss: 0.0018 - val_class_label_loss: 0.0000e+00 - val_bounding_box_accuracy: 1.0000 - val_class_label_accuracy: 0.0000e+00\n",
      "Epoch 37/100\n",
      "43/43 [==============================] - 3s 66ms/step - loss: 0.0013 - bounding_box_loss: 0.0013 - class_label_loss: 0.0000e+00 - bounding_box_accuracy: 1.0000 - class_label_accuracy: 0.0000e+00 - val_loss: 0.0018 - val_bounding_box_loss: 0.0018 - val_class_label_loss: 0.0000e+00 - val_bounding_box_accuracy: 1.0000 - val_class_label_accuracy: 0.0000e+00\n",
      "Epoch 38/100\n",
      "43/43 [==============================] - 3s 66ms/step - loss: 0.0012 - bounding_box_loss: 0.0012 - class_label_loss: 0.0000e+00 - bounding_box_accuracy: 1.0000 - class_label_accuracy: 0.0000e+00 - val_loss: 0.0018 - val_bounding_box_loss: 0.0018 - val_class_label_loss: 0.0000e+00 - val_bounding_box_accuracy: 0.9941 - val_class_label_accuracy: 0.0000e+00\n",
      "Epoch 39/100\n",
      "43/43 [==============================] - 3s 66ms/step - loss: 0.0013 - bounding_box_loss: 0.0013 - class_label_loss: 0.0000e+00 - bounding_box_accuracy: 1.0000 - class_label_accuracy: 0.0000e+00 - val_loss: 0.0018 - val_bounding_box_loss: 0.0018 - val_class_label_loss: 0.0000e+00 - val_bounding_box_accuracy: 1.0000 - val_class_label_accuracy: 0.0000e+00\n",
      "Epoch 40/100\n",
      "43/43 [==============================] - 3s 66ms/step - loss: 0.0013 - bounding_box_loss: 0.0013 - class_label_loss: 0.0000e+00 - bounding_box_accuracy: 0.9985 - class_label_accuracy: 0.0000e+00 - val_loss: 0.0018 - val_bounding_box_loss: 0.0018 - val_class_label_loss: 0.0000e+00 - val_bounding_box_accuracy: 0.9941 - val_class_label_accuracy: 0.0000e+00\n",
      "Epoch 41/100\n",
      "43/43 [==============================] - 3s 66ms/step - loss: 0.0012 - bounding_box_loss: 0.0012 - class_label_loss: 0.0000e+00 - bounding_box_accuracy: 1.0000 - class_label_accuracy: 0.0000e+00 - val_loss: 0.0018 - val_bounding_box_loss: 0.0018 - val_class_label_loss: 0.0000e+00 - val_bounding_box_accuracy: 0.9941 - val_class_label_accuracy: 0.0000e+00\n",
      "Epoch 42/100\n",
      "43/43 [==============================] - 3s 66ms/step - loss: 0.0012 - bounding_box_loss: 0.0012 - class_label_loss: 0.0000e+00 - bounding_box_accuracy: 1.0000 - class_label_accuracy: 0.0000e+00 - val_loss: 0.0018 - val_bounding_box_loss: 0.0018 - val_class_label_loss: 0.0000e+00 - val_bounding_box_accuracy: 0.9941 - val_class_label_accuracy: 0.0000e+00\n",
      "Epoch 43/100\n",
      "43/43 [==============================] - 3s 66ms/step - loss: 0.0012 - bounding_box_loss: 0.0012 - class_label_loss: 0.0000e+00 - bounding_box_accuracy: 1.0000 - class_label_accuracy: 0.0000e+00 - val_loss: 0.0018 - val_bounding_box_loss: 0.0018 - val_class_label_loss: 0.0000e+00 - val_bounding_box_accuracy: 0.9941 - val_class_label_accuracy: 0.0000e+00\n",
      "Epoch 44/100\n",
      "43/43 [==============================] - 3s 66ms/step - loss: 0.0012 - bounding_box_loss: 0.0012 - class_label_loss: 0.0000e+00 - bounding_box_accuracy: 0.9985 - class_label_accuracy: 0.0000e+00 - val_loss: 0.0018 - val_bounding_box_loss: 0.0018 - val_class_label_loss: 0.0000e+00 - val_bounding_box_accuracy: 0.9941 - val_class_label_accuracy: 0.0000e+00\n",
      "Epoch 45/100\n",
      "43/43 [==============================] - 3s 66ms/step - loss: 0.0012 - bounding_box_loss: 0.0012 - class_label_loss: 0.0000e+00 - bounding_box_accuracy: 0.9985 - class_label_accuracy: 0.0000e+00 - val_loss: 0.0019 - val_bounding_box_loss: 0.0019 - val_class_label_loss: 0.0000e+00 - val_bounding_box_accuracy: 0.9941 - val_class_label_accuracy: 0.0000e+00\n",
      "Epoch 46/100\n",
      "43/43 [==============================] - 3s 66ms/step - loss: 0.0012 - bounding_box_loss: 0.0012 - class_label_loss: 0.0000e+00 - bounding_box_accuracy: 1.0000 - class_label_accuracy: 0.0000e+00 - val_loss: 0.0018 - val_bounding_box_loss: 0.0018 - val_class_label_loss: 0.0000e+00 - val_bounding_box_accuracy: 0.9941 - val_class_label_accuracy: 0.0000e+00\n",
      "Epoch 47/100\n",
      "43/43 [==============================] - 3s 68ms/step - loss: 0.0012 - bounding_box_loss: 0.0012 - class_label_loss: 0.0000e+00 - bounding_box_accuracy: 1.0000 - class_label_accuracy: 0.0000e+00 - val_loss: 0.0018 - val_bounding_box_loss: 0.0018 - val_class_label_loss: 0.0000e+00 - val_bounding_box_accuracy: 0.9941 - val_class_label_accuracy: 0.0000e+00\n",
      "Epoch 48/100\n",
      "43/43 [==============================] - 3s 68ms/step - loss: 0.0012 - bounding_box_loss: 0.0012 - class_label_loss: 0.0000e+00 - bounding_box_accuracy: 0.9985 - class_label_accuracy: 0.0000e+00 - val_loss: 0.0018 - val_bounding_box_loss: 0.0018 - val_class_label_loss: 0.0000e+00 - val_bounding_box_accuracy: 0.9941 - val_class_label_accuracy: 0.0000e+00\n",
      "Epoch 49/100\n",
      "43/43 [==============================] - 3s 68ms/step - loss: 0.0012 - bounding_box_loss: 0.0012 - class_label_loss: 0.0000e+00 - bounding_box_accuracy: 1.0000 - class_label_accuracy: 0.0000e+00 - val_loss: 0.0018 - val_bounding_box_loss: 0.0018 - val_class_label_loss: 0.0000e+00 - val_bounding_box_accuracy: 1.0000 - val_class_label_accuracy: 0.0000e+00\n",
      "Epoch 50/100\n",
      "43/43 [==============================] - 3s 68ms/step - loss: 0.0012 - bounding_box_loss: 0.0012 - class_label_loss: 0.0000e+00 - bounding_box_accuracy: 1.0000 - class_label_accuracy: 0.0000e+00 - val_loss: 0.0018 - val_bounding_box_loss: 0.0018 - val_class_label_loss: 0.0000e+00 - val_bounding_box_accuracy: 1.0000 - val_class_label_accuracy: 0.0000e+00\n",
      "Epoch 51/100\n",
      "43/43 [==============================] - 3s 69ms/step - loss: 0.0012 - bounding_box_loss: 0.0012 - class_label_loss: 0.0000e+00 - bounding_box_accuracy: 1.0000 - class_label_accuracy: 0.0000e+00 - val_loss: 0.0018 - val_bounding_box_loss: 0.0018 - val_class_label_loss: 0.0000e+00 - val_bounding_box_accuracy: 0.9941 - val_class_label_accuracy: 0.0000e+00\n",
      "Epoch 52/100\n",
      "43/43 [==============================] - 3s 68ms/step - loss: 0.0012 - bounding_box_loss: 0.0012 - class_label_loss: 0.0000e+00 - bounding_box_accuracy: 0.9985 - class_label_accuracy: 0.0000e+00 - val_loss: 0.0018 - val_bounding_box_loss: 0.0018 - val_class_label_loss: 0.0000e+00 - val_bounding_box_accuracy: 1.0000 - val_class_label_accuracy: 0.0000e+00\n",
      "Epoch 53/100\n",
      "43/43 [==============================] - 3s 68ms/step - loss: 0.0012 - bounding_box_loss: 0.0012 - class_label_loss: 0.0000e+00 - bounding_box_accuracy: 1.0000 - class_label_accuracy: 0.0000e+00 - val_loss: 0.0018 - val_bounding_box_loss: 0.0018 - val_class_label_loss: 0.0000e+00 - val_bounding_box_accuracy: 0.9941 - val_class_label_accuracy: 0.0000e+00\n",
      "Epoch 54/100\n",
      "43/43 [==============================] - 3s 66ms/step - loss: 0.0012 - bounding_box_loss: 0.0012 - class_label_loss: 0.0000e+00 - bounding_box_accuracy: 1.0000 - class_label_accuracy: 0.0000e+00 - val_loss: 0.0018 - val_bounding_box_loss: 0.0018 - val_class_label_loss: 0.0000e+00 - val_bounding_box_accuracy: 0.9941 - val_class_label_accuracy: 0.0000e+00\n",
      "Epoch 55/100\n",
      "43/43 [==============================] - 3s 66ms/step - loss: 0.0012 - bounding_box_loss: 0.0012 - class_label_loss: 0.0000e+00 - bounding_box_accuracy: 1.0000 - class_label_accuracy: 0.0000e+00 - val_loss: 0.0018 - val_bounding_box_loss: 0.0018 - val_class_label_loss: 0.0000e+00 - val_bounding_box_accuracy: 0.9941 - val_class_label_accuracy: 0.0000e+00\n",
      "Epoch 56/100\n",
      "43/43 [==============================] - 3s 66ms/step - loss: 0.0012 - bounding_box_loss: 0.0012 - class_label_loss: 0.0000e+00 - bounding_box_accuracy: 1.0000 - class_label_accuracy: 0.0000e+00 - val_loss: 0.0018 - val_bounding_box_loss: 0.0018 - val_class_label_loss: 0.0000e+00 - val_bounding_box_accuracy: 1.0000 - val_class_label_accuracy: 0.0000e+00\n",
      "Epoch 57/100\n",
      "43/43 [==============================] - 3s 66ms/step - loss: 0.0012 - bounding_box_loss: 0.0012 - class_label_loss: 0.0000e+00 - bounding_box_accuracy: 1.0000 - class_label_accuracy: 0.0000e+00 - val_loss: 0.0018 - val_bounding_box_loss: 0.0018 - val_class_label_loss: 0.0000e+00 - val_bounding_box_accuracy: 1.0000 - val_class_label_accuracy: 0.0000e+00\n",
      "Epoch 58/100\n",
      "43/43 [==============================] - 3s 66ms/step - loss: 0.0012 - bounding_box_loss: 0.0012 - class_label_loss: 0.0000e+00 - bounding_box_accuracy: 0.9985 - class_label_accuracy: 0.0000e+00 - val_loss: 0.0018 - val_bounding_box_loss: 0.0018 - val_class_label_loss: 0.0000e+00 - val_bounding_box_accuracy: 1.0000 - val_class_label_accuracy: 0.0000e+00\n",
      "Epoch 59/100\n",
      "43/43 [==============================] - 3s 66ms/step - loss: 0.0012 - bounding_box_loss: 0.0012 - class_label_loss: 0.0000e+00 - bounding_box_accuracy: 1.0000 - class_label_accuracy: 0.0000e+00 - val_loss: 0.0018 - val_bounding_box_loss: 0.0018 - val_class_label_loss: 0.0000e+00 - val_bounding_box_accuracy: 0.9941 - val_class_label_accuracy: 0.0000e+00\n",
      "Epoch 60/100\n",
      "43/43 [==============================] - 3s 66ms/step - loss: 0.0012 - bounding_box_loss: 0.0012 - class_label_loss: 0.0000e+00 - bounding_box_accuracy: 0.9970 - class_label_accuracy: 0.0000e+00 - val_loss: 0.0018 - val_bounding_box_loss: 0.0018 - val_class_label_loss: 0.0000e+00 - val_bounding_box_accuracy: 0.9941 - val_class_label_accuracy: 0.0000e+00\n",
      "Epoch 61/100\n",
      "43/43 [==============================] - 3s 66ms/step - loss: 0.0012 - bounding_box_loss: 0.0012 - class_label_loss: 0.0000e+00 - bounding_box_accuracy: 0.9985 - class_label_accuracy: 0.0000e+00 - val_loss: 0.0018 - val_bounding_box_loss: 0.0018 - val_class_label_loss: 0.0000e+00 - val_bounding_box_accuracy: 0.9941 - val_class_label_accuracy: 0.0000e+00\n",
      "Epoch 62/100\n",
      "43/43 [==============================] - 3s 66ms/step - loss: 0.0011 - bounding_box_loss: 0.0011 - class_label_loss: 0.0000e+00 - bounding_box_accuracy: 1.0000 - class_label_accuracy: 0.0000e+00 - val_loss: 0.0018 - val_bounding_box_loss: 0.0018 - val_class_label_loss: 0.0000e+00 - val_bounding_box_accuracy: 0.9941 - val_class_label_accuracy: 0.0000e+00\n",
      "Epoch 63/100\n",
      "43/43 [==============================] - 3s 66ms/step - loss: 0.0012 - bounding_box_loss: 0.0012 - class_label_loss: 0.0000e+00 - bounding_box_accuracy: 0.9985 - class_label_accuracy: 0.0000e+00 - val_loss: 0.0018 - val_bounding_box_loss: 0.0018 - val_class_label_loss: 0.0000e+00 - val_bounding_box_accuracy: 1.0000 - val_class_label_accuracy: 0.0000e+00\n",
      "Epoch 64/100\n",
      "43/43 [==============================] - 3s 66ms/step - loss: 0.0012 - bounding_box_loss: 0.0012 - class_label_loss: 0.0000e+00 - bounding_box_accuracy: 0.9985 - class_label_accuracy: 0.0000e+00 - val_loss: 0.0018 - val_bounding_box_loss: 0.0018 - val_class_label_loss: 0.0000e+00 - val_bounding_box_accuracy: 0.9941 - val_class_label_accuracy: 0.0000e+00\n",
      "Epoch 65/100\n",
      "43/43 [==============================] - 3s 66ms/step - loss: 0.0012 - bounding_box_loss: 0.0012 - class_label_loss: 0.0000e+00 - bounding_box_accuracy: 1.0000 - class_label_accuracy: 0.0000e+00 - val_loss: 0.0018 - val_bounding_box_loss: 0.0018 - val_class_label_loss: 0.0000e+00 - val_bounding_box_accuracy: 0.9941 - val_class_label_accuracy: 0.0000e+00\n",
      "Epoch 66/100\n",
      "43/43 [==============================] - 3s 66ms/step - loss: 0.0012 - bounding_box_loss: 0.0012 - class_label_loss: 0.0000e+00 - bounding_box_accuracy: 1.0000 - class_label_accuracy: 0.0000e+00 - val_loss: 0.0017 - val_bounding_box_loss: 0.0017 - val_class_label_loss: 0.0000e+00 - val_bounding_box_accuracy: 0.9941 - val_class_label_accuracy: 0.0000e+00\n",
      "Epoch 67/100\n",
      "43/43 [==============================] - 3s 66ms/step - loss: 0.0011 - bounding_box_loss: 0.0011 - class_label_loss: 0.0000e+00 - bounding_box_accuracy: 1.0000 - class_label_accuracy: 0.0000e+00 - val_loss: 0.0018 - val_bounding_box_loss: 0.0018 - val_class_label_loss: 0.0000e+00 - val_bounding_box_accuracy: 0.9941 - val_class_label_accuracy: 0.0000e+00\n",
      "Epoch 68/100\n",
      "43/43 [==============================] - 3s 66ms/step - loss: 0.0011 - bounding_box_loss: 0.0011 - class_label_loss: 0.0000e+00 - bounding_box_accuracy: 0.9985 - class_label_accuracy: 0.0000e+00 - val_loss: 0.0018 - val_bounding_box_loss: 0.0018 - val_class_label_loss: 0.0000e+00 - val_bounding_box_accuracy: 0.9941 - val_class_label_accuracy: 0.0000e+00\n",
      "Epoch 69/100\n",
      "43/43 [==============================] - 3s 66ms/step - loss: 0.0011 - bounding_box_loss: 0.0011 - class_label_loss: 0.0000e+00 - bounding_box_accuracy: 1.0000 - class_label_accuracy: 0.0000e+00 - val_loss: 0.0018 - val_bounding_box_loss: 0.0018 - val_class_label_loss: 0.0000e+00 - val_bounding_box_accuracy: 0.9941 - val_class_label_accuracy: 0.0000e+00\n",
      "Epoch 70/100\n",
      "43/43 [==============================] - 3s 66ms/step - loss: 0.0011 - bounding_box_loss: 0.0011 - class_label_loss: 0.0000e+00 - bounding_box_accuracy: 1.0000 - class_label_accuracy: 0.0000e+00 - val_loss: 0.0018 - val_bounding_box_loss: 0.0018 - val_class_label_loss: 0.0000e+00 - val_bounding_box_accuracy: 1.0000 - val_class_label_accuracy: 0.0000e+00\n",
      "Epoch 71/100\n",
      "43/43 [==============================] - 3s 66ms/step - loss: 0.0011 - bounding_box_loss: 0.0011 - class_label_loss: 0.0000e+00 - bounding_box_accuracy: 1.0000 - class_label_accuracy: 0.0000e+00 - val_loss: 0.0018 - val_bounding_box_loss: 0.0018 - val_class_label_loss: 0.0000e+00 - val_bounding_box_accuracy: 0.9941 - val_class_label_accuracy: 0.0000e+00\n",
      "Epoch 72/100\n",
      "43/43 [==============================] - 3s 66ms/step - loss: 0.0011 - bounding_box_loss: 0.0011 - class_label_loss: 0.0000e+00 - bounding_box_accuracy: 1.0000 - class_label_accuracy: 0.0000e+00 - val_loss: 0.0018 - val_bounding_box_loss: 0.0018 - val_class_label_loss: 0.0000e+00 - val_bounding_box_accuracy: 0.9941 - val_class_label_accuracy: 0.0000e+00\n",
      "Epoch 73/100\n",
      "43/43 [==============================] - 3s 66ms/step - loss: 0.0011 - bounding_box_loss: 0.0011 - class_label_loss: 0.0000e+00 - bounding_box_accuracy: 1.0000 - class_label_accuracy: 0.0000e+00 - val_loss: 0.0018 - val_bounding_box_loss: 0.0018 - val_class_label_loss: 0.0000e+00 - val_bounding_box_accuracy: 0.9941 - val_class_label_accuracy: 0.0000e+00\n",
      "Epoch 74/100\n",
      "43/43 [==============================] - 3s 66ms/step - loss: 0.0011 - bounding_box_loss: 0.0011 - class_label_loss: 0.0000e+00 - bounding_box_accuracy: 1.0000 - class_label_accuracy: 0.0000e+00 - val_loss: 0.0018 - val_bounding_box_loss: 0.0018 - val_class_label_loss: 0.0000e+00 - val_bounding_box_accuracy: 1.0000 - val_class_label_accuracy: 0.0000e+00\n",
      "Epoch 75/100\n",
      "43/43 [==============================] - 3s 66ms/step - loss: 0.0011 - bounding_box_loss: 0.0011 - class_label_loss: 0.0000e+00 - bounding_box_accuracy: 1.0000 - class_label_accuracy: 0.0000e+00 - val_loss: 0.0018 - val_bounding_box_loss: 0.0018 - val_class_label_loss: 0.0000e+00 - val_bounding_box_accuracy: 0.9941 - val_class_label_accuracy: 0.0000e+00\n",
      "Epoch 76/100\n",
      "43/43 [==============================] - 3s 66ms/step - loss: 0.0011 - bounding_box_loss: 0.0011 - class_label_loss: 0.0000e+00 - bounding_box_accuracy: 1.0000 - class_label_accuracy: 0.0000e+00 - val_loss: 0.0018 - val_bounding_box_loss: 0.0018 - val_class_label_loss: 0.0000e+00 - val_bounding_box_accuracy: 0.9941 - val_class_label_accuracy: 0.0000e+00\n",
      "Epoch 77/100\n",
      "43/43 [==============================] - 3s 66ms/step - loss: 0.0011 - bounding_box_loss: 0.0011 - class_label_loss: 0.0000e+00 - bounding_box_accuracy: 1.0000 - class_label_accuracy: 0.0000e+00 - val_loss: 0.0018 - val_bounding_box_loss: 0.0018 - val_class_label_loss: 0.0000e+00 - val_bounding_box_accuracy: 0.9941 - val_class_label_accuracy: 0.0000e+00\n",
      "Epoch 78/100\n",
      "43/43 [==============================] - 3s 66ms/step - loss: 0.0011 - bounding_box_loss: 0.0011 - class_label_loss: 0.0000e+00 - bounding_box_accuracy: 1.0000 - class_label_accuracy: 0.0000e+00 - val_loss: 0.0018 - val_bounding_box_loss: 0.0018 - val_class_label_loss: 0.0000e+00 - val_bounding_box_accuracy: 0.9941 - val_class_label_accuracy: 0.0000e+00\n",
      "Epoch 79/100\n",
      "43/43 [==============================] - 3s 66ms/step - loss: 0.0011 - bounding_box_loss: 0.0011 - class_label_loss: 0.0000e+00 - bounding_box_accuracy: 0.9985 - class_label_accuracy: 0.0000e+00 - val_loss: 0.0018 - val_bounding_box_loss: 0.0018 - val_class_label_loss: 0.0000e+00 - val_bounding_box_accuracy: 0.9882 - val_class_label_accuracy: 0.0000e+00\n",
      "Epoch 80/100\n",
      "43/43 [==============================] - 3s 66ms/step - loss: 0.0011 - bounding_box_loss: 0.0011 - class_label_loss: 0.0000e+00 - bounding_box_accuracy: 0.9985 - class_label_accuracy: 0.0000e+00 - val_loss: 0.0018 - val_bounding_box_loss: 0.0018 - val_class_label_loss: 0.0000e+00 - val_bounding_box_accuracy: 0.9941 - val_class_label_accuracy: 0.0000e+00\n",
      "Epoch 81/100\n",
      "43/43 [==============================] - 3s 66ms/step - loss: 0.0011 - bounding_box_loss: 0.0011 - class_label_loss: 0.0000e+00 - bounding_box_accuracy: 0.9985 - class_label_accuracy: 0.0000e+00 - val_loss: 0.0018 - val_bounding_box_loss: 0.0018 - val_class_label_loss: 0.0000e+00 - val_bounding_box_accuracy: 0.9941 - val_class_label_accuracy: 0.0000e+00\n",
      "Epoch 82/100\n",
      "43/43 [==============================] - 3s 66ms/step - loss: 0.0011 - bounding_box_loss: 0.0011 - class_label_loss: 0.0000e+00 - bounding_box_accuracy: 0.9985 - class_label_accuracy: 0.0000e+00 - val_loss: 0.0018 - val_bounding_box_loss: 0.0018 - val_class_label_loss: 0.0000e+00 - val_bounding_box_accuracy: 0.9941 - val_class_label_accuracy: 0.0000e+00\n",
      "Epoch 83/100\n",
      "43/43 [==============================] - 3s 66ms/step - loss: 0.0011 - bounding_box_loss: 0.0011 - class_label_loss: 0.0000e+00 - bounding_box_accuracy: 1.0000 - class_label_accuracy: 0.0000e+00 - val_loss: 0.0018 - val_bounding_box_loss: 0.0018 - val_class_label_loss: 0.0000e+00 - val_bounding_box_accuracy: 0.9941 - val_class_label_accuracy: 0.0000e+00\n",
      "Epoch 84/100\n",
      "43/43 [==============================] - 3s 67ms/step - loss: 0.0011 - bounding_box_loss: 0.0011 - class_label_loss: 0.0000e+00 - bounding_box_accuracy: 1.0000 - class_label_accuracy: 0.0000e+00 - val_loss: 0.0018 - val_bounding_box_loss: 0.0018 - val_class_label_loss: 0.0000e+00 - val_bounding_box_accuracy: 0.9941 - val_class_label_accuracy: 0.0000e+00\n",
      "Epoch 85/100\n",
      "43/43 [==============================] - 3s 66ms/step - loss: 0.0011 - bounding_box_loss: 0.0011 - class_label_loss: 0.0000e+00 - bounding_box_accuracy: 1.0000 - class_label_accuracy: 0.0000e+00 - val_loss: 0.0018 - val_bounding_box_loss: 0.0018 - val_class_label_loss: 0.0000e+00 - val_bounding_box_accuracy: 0.9941 - val_class_label_accuracy: 0.0000e+00\n",
      "Epoch 86/100\n",
      "43/43 [==============================] - 3s 66ms/step - loss: 0.0011 - bounding_box_loss: 0.0011 - class_label_loss: 0.0000e+00 - bounding_box_accuracy: 0.9970 - class_label_accuracy: 0.0000e+00 - val_loss: 0.0018 - val_bounding_box_loss: 0.0018 - val_class_label_loss: 0.0000e+00 - val_bounding_box_accuracy: 0.9941 - val_class_label_accuracy: 0.0000e+00\n",
      "Epoch 87/100\n",
      "43/43 [==============================] - 3s 66ms/step - loss: 0.0011 - bounding_box_loss: 0.0011 - class_label_loss: 0.0000e+00 - bounding_box_accuracy: 0.9985 - class_label_accuracy: 0.0000e+00 - val_loss: 0.0018 - val_bounding_box_loss: 0.0018 - val_class_label_loss: 0.0000e+00 - val_bounding_box_accuracy: 0.9941 - val_class_label_accuracy: 0.0000e+00\n",
      "Epoch 88/100\n",
      "43/43 [==============================] - 3s 66ms/step - loss: 0.0011 - bounding_box_loss: 0.0011 - class_label_loss: 0.0000e+00 - bounding_box_accuracy: 1.0000 - class_label_accuracy: 0.0000e+00 - val_loss: 0.0018 - val_bounding_box_loss: 0.0018 - val_class_label_loss: 0.0000e+00 - val_bounding_box_accuracy: 1.0000 - val_class_label_accuracy: 0.0000e+00\n",
      "Epoch 89/100\n",
      "43/43 [==============================] - 3s 66ms/step - loss: 0.0011 - bounding_box_loss: 0.0011 - class_label_loss: 0.0000e+00 - bounding_box_accuracy: 1.0000 - class_label_accuracy: 0.0000e+00 - val_loss: 0.0018 - val_bounding_box_loss: 0.0018 - val_class_label_loss: 0.0000e+00 - val_bounding_box_accuracy: 0.9941 - val_class_label_accuracy: 0.0000e+00\n",
      "Epoch 90/100\n",
      "43/43 [==============================] - 3s 66ms/step - loss: 0.0011 - bounding_box_loss: 0.0011 - class_label_loss: 0.0000e+00 - bounding_box_accuracy: 0.9985 - class_label_accuracy: 0.0000e+00 - val_loss: 0.0018 - val_bounding_box_loss: 0.0018 - val_class_label_loss: 0.0000e+00 - val_bounding_box_accuracy: 0.9941 - val_class_label_accuracy: 0.0000e+00\n",
      "Epoch 91/100\n",
      "43/43 [==============================] - 3s 66ms/step - loss: 0.0011 - bounding_box_loss: 0.0011 - class_label_loss: 0.0000e+00 - bounding_box_accuracy: 1.0000 - class_label_accuracy: 0.0000e+00 - val_loss: 0.0019 - val_bounding_box_loss: 0.0019 - val_class_label_loss: 0.0000e+00 - val_bounding_box_accuracy: 1.0000 - val_class_label_accuracy: 0.0000e+00\n",
      "Epoch 92/100\n",
      "43/43 [==============================] - 3s 66ms/step - loss: 0.0011 - bounding_box_loss: 0.0011 - class_label_loss: 0.0000e+00 - bounding_box_accuracy: 1.0000 - class_label_accuracy: 0.0000e+00 - val_loss: 0.0018 - val_bounding_box_loss: 0.0018 - val_class_label_loss: 0.0000e+00 - val_bounding_box_accuracy: 0.9941 - val_class_label_accuracy: 0.0000e+00\n",
      "Epoch 93/100\n",
      "43/43 [==============================] - 3s 66ms/step - loss: 0.0011 - bounding_box_loss: 0.0011 - class_label_loss: 0.0000e+00 - bounding_box_accuracy: 0.9985 - class_label_accuracy: 0.0000e+00 - val_loss: 0.0018 - val_bounding_box_loss: 0.0018 - val_class_label_loss: 0.0000e+00 - val_bounding_box_accuracy: 1.0000 - val_class_label_accuracy: 0.0000e+00\n",
      "Epoch 94/100\n",
      "43/43 [==============================] - 3s 66ms/step - loss: 0.0011 - bounding_box_loss: 0.0011 - class_label_loss: 0.0000e+00 - bounding_box_accuracy: 1.0000 - class_label_accuracy: 0.0000e+00 - val_loss: 0.0018 - val_bounding_box_loss: 0.0018 - val_class_label_loss: 0.0000e+00 - val_bounding_box_accuracy: 0.9941 - val_class_label_accuracy: 0.0000e+00\n",
      "Epoch 95/100\n",
      "43/43 [==============================] - 3s 66ms/step - loss: 0.0011 - bounding_box_loss: 0.0011 - class_label_loss: 0.0000e+00 - bounding_box_accuracy: 1.0000 - class_label_accuracy: 0.0000e+00 - val_loss: 0.0018 - val_bounding_box_loss: 0.0018 - val_class_label_loss: 0.0000e+00 - val_bounding_box_accuracy: 0.9941 - val_class_label_accuracy: 0.0000e+00\n",
      "Epoch 96/100\n",
      "43/43 [==============================] - 3s 66ms/step - loss: 0.0011 - bounding_box_loss: 0.0011 - class_label_loss: 0.0000e+00 - bounding_box_accuracy: 1.0000 - class_label_accuracy: 0.0000e+00 - val_loss: 0.0018 - val_bounding_box_loss: 0.0018 - val_class_label_loss: 0.0000e+00 - val_bounding_box_accuracy: 0.9941 - val_class_label_accuracy: 0.0000e+00\n",
      "Epoch 97/100\n",
      "43/43 [==============================] - 3s 66ms/step - loss: 0.0011 - bounding_box_loss: 0.0011 - class_label_loss: 0.0000e+00 - bounding_box_accuracy: 0.9970 - class_label_accuracy: 0.0000e+00 - val_loss: 0.0018 - val_bounding_box_loss: 0.0018 - val_class_label_loss: 0.0000e+00 - val_bounding_box_accuracy: 0.9941 - val_class_label_accuracy: 0.0000e+00\n",
      "Epoch 98/100\n",
      "43/43 [==============================] - 3s 66ms/step - loss: 0.0011 - bounding_box_loss: 0.0011 - class_label_loss: 0.0000e+00 - bounding_box_accuracy: 0.9985 - class_label_accuracy: 0.0000e+00 - val_loss: 0.0018 - val_bounding_box_loss: 0.0018 - val_class_label_loss: 0.0000e+00 - val_bounding_box_accuracy: 0.9941 - val_class_label_accuracy: 0.0000e+00\n",
      "Epoch 99/100\n",
      "43/43 [==============================] - 3s 66ms/step - loss: 0.0011 - bounding_box_loss: 0.0011 - class_label_loss: 0.0000e+00 - bounding_box_accuracy: 0.9985 - class_label_accuracy: 0.0000e+00 - val_loss: 0.0018 - val_bounding_box_loss: 0.0018 - val_class_label_loss: 0.0000e+00 - val_bounding_box_accuracy: 1.0000 - val_class_label_accuracy: 0.0000e+00\n",
      "Epoch 100/100\n",
      "43/43 [==============================] - 3s 66ms/step - loss: 0.0011 - bounding_box_loss: 0.0011 - class_label_loss: 0.0000e+00 - bounding_box_accuracy: 1.0000 - class_label_accuracy: 0.0000e+00 - val_loss: 0.0018 - val_bounding_box_loss: 0.0018 - val_class_label_loss: 0.0000e+00 - val_bounding_box_accuracy: 0.9941 - val_class_label_accuracy: 0.0000e+00\n"
     ]
    }
   ],
   "source": [
    "# train the network for bounding box regression and class label\n",
    "# prediction\n",
    "print(\"[INFO] training model...\")\n",
    "H = model.fit(\n",
    "\ttrainImages, trainTargets,\n",
    "\tvalidation_data=(testImages, testTargets),\n",
    "\tbatch_size=config.BATCH_SIZE,\n",
    "\tepochs=config.NUM_EPOCHS,\n",
    "\tverbose=1)\n"
   ]
  },
  {
   "cell_type": "code",
   "execution_count": 19,
   "metadata": {},
   "outputs": [
    {
     "name": "stdout",
     "output_type": "stream",
     "text": [
      "[INFO] saving object detector model...\n",
      "[INFO] saving label binarizer...\n"
     ]
    }
   ],
   "source": [
    "# serialize the model to disk\n",
    "print(\"[INFO] saving object detector model...\")\n",
    "model.save(config.MODEL_PATH, save_format=\"h5\")\n",
    "# serialize the label binarizer to disk\n",
    "print(\"[INFO] saving label binarizer...\")\n",
    "f = open(config.LB_PATH, \"wb\")\n",
    "f.write(pickle.dumps(lb))\n",
    "f.close()"
   ]
  },
  {
   "cell_type": "code",
   "execution_count": 20,
   "metadata": {},
   "outputs": [
    {
     "name": "stdout",
     "output_type": "stream",
     "text": [
      "../Model_Output\\plots\\losses.png\n"
     ]
    }
   ],
   "source": [
    "# plot the total loss, label loss, and bounding box loss\n",
    "lossNames = [\"loss\", \"class_label_loss\", \"bounding_box_loss\"]\n",
    "N = np.arange(0, config.NUM_EPOCHS)\n",
    "plt.style.use(\"ggplot\")\n",
    "(fig, ax) = plt.subplots(3, 1, figsize=(13, 13))\n",
    "# loop over the loss names\n",
    "for (i, l) in enumerate(lossNames):\n",
    "\t# plot the loss for both the training and validation data\n",
    "\ttitle = \"Loss for {}\".format(l) if l != \"loss\" else \"Total loss\"\n",
    "\tax[i].set_title(title)\n",
    "\tax[i].set_xlabel(\"Epoch #\")\n",
    "\tax[i].set_ylabel(\"Loss\")\n",
    "\tax[i].plot(N, H.history[l], label=l)\n",
    "\tax[i].plot(N, H.history[\"val_\" + l], label=\"val_\" + l)\n",
    "\tax[i].legend()\n",
    "# save the losses figure and create a new figure for the accuracies\n",
    "plt.tight_layout()\n",
    "plotPath = os.path.sep.join([config.PLOT_PATH, \"losses.png\"])\n",
    "print(plotPath)\n",
    "plt.savefig(plotPath)\n",
    "plt.close()"
   ]
  },
  {
   "cell_type": "code",
   "execution_count": 21,
   "metadata": {},
   "outputs": [
    {
     "data": {
      "image/png": "[encoded data removed]",
      "text/plain": [
       "<Figure size 432x288 with 1 Axes>"
      ]
     },
     "metadata": {},
     "output_type": "display_data"
    }
   ],
   "source": [
    "plt.style.use(\"ggplot\")\n",
    "plt.figure()\n",
    "plt.plot(N, H.history[\"class_label_accuracy\"],\n",
    "\tlabel=\"class_label_train_acc\")\n",
    "plt.plot(N, H.history[\"val_class_label_accuracy\"],\n",
    "\tlabel=\"val_class_label_acc\")\n",
    "plt.title(\"Class Label Accuracy\")\n",
    "plt.xlabel(\"Epoch #\")\n",
    "plt.ylabel(\"Accuracy\")\n",
    "plt.legend(loc=\"lower left\")\n",
    "# save the accuracies plot\n",
    "plotPath = os.path.sep.join([config.PLOT_PATH, \"accs.png\"])\n",
    "plt.savefig(plotPath)"
   ]
  },
  {
   "cell_type": "code",
   "execution_count": null,
   "metadata": {},
   "outputs": [],
   "source": []
  }
 ],
 "metadata": {
  "kernelspec": {
   "display_name": "Python 3.9.7 ('deepL')",
   "language": "python",
   "name": "python3"
  },
  "language_info": {
   "codemirror_mode": {
    "name": "ipython",
    "version": 3
   },
   "file_extension": ".py",
   "mimetype": "text/x-python",
   "name": "python",
   "nbconvert_exporter": "python",
   "pygments_lexer": "ipython3",
   "version": "3.9.7"
  },
  "orig_nbformat": 4,
  "vscode": {
   "interpreter": {
    "hash": "b90cab7ea642421f44636989edaf96d86cb1abe354b45ce6eed3b362842c2584"
   }
  }
 },
 "nbformat": 4,
 "nbformat_minor": 2
}
