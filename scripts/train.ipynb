{
 "cells": [
  {
   "cell_type": "code",
   "execution_count": 1,
   "metadata": {},
   "outputs": [],
   "source": [
    "# import the necessary packages\n",
    "import config\n",
    "from tensorflow.keras.applications import VGG16\n",
    "from tensorflow.keras.layers import Flatten\n",
    "from tensorflow.keras.layers import Dense\n",
    "from tensorflow.keras.layers import Input\n",
    "from tensorflow.keras.models import Model\n",
    "from tensorflow.keras.optimizers import Adam\n",
    "from tensorflow.keras.preprocessing.image import img_to_array\n",
    "from tensorflow.keras.preprocessing.image import load_img\n",
    "from sklearn.model_selection import train_test_split\n",
    "import matplotlib.pyplot as plt\n",
    "import numpy as np\n",
    "import pandas as pd\n",
    "import cv2\n",
    "import os"
   ]
  },
  {
   "cell_type": "code",
   "execution_count": 2,
   "metadata": {},
   "outputs": [
    {
     "name": "stdout",
     "output_type": "stream",
     "text": [
      "[INFO] loading dataset...\n"
     ]
    }
   ],
   "source": [
    "# load the contents of the CSV annotations file\n",
    "print(\"[INFO] loading dataset...\")\n",
    "ANNOT_PATH = config.ANNOTS_PATH"
   ]
  },
  {
   "cell_type": "code",
   "execution_count": 3,
   "metadata": {},
   "outputs": [],
   "source": [
    "ANNOTS = pd.read_csv(ANNOT_PATH, index_col=0)\n",
    "ANNOTS['filename'] = ANNOTS['filename'].astype('string')"
   ]
  },
  {
   "cell_type": "code",
   "execution_count": 4,
   "metadata": {},
   "outputs": [],
   "source": [
    "#ANNOTS.dtypes\n",
    "ANNOTS['img_filename'] = ANNOTS.filename.str.split(pat='.',n = 1, expand = True)[0]"
   ]
  },
  {
   "cell_type": "code",
   "execution_count": 5,
   "metadata": {},
   "outputs": [],
   "source": [
    "ANNOTS['img_filename'] = ANNOTS['img_filename']+'.jpg'"
   ]
  },
  {
   "cell_type": "code",
   "execution_count": 6,
   "metadata": {},
   "outputs": [
    {
     "data": {
      "text/plain": [
       "filename        string\n",
       "startX           int64\n",
       "startY           int64\n",
       "endX             int64\n",
       "endY             int64\n",
       "class           object\n",
       "img_filename    string\n",
       "dtype: object"
      ]
     },
     "execution_count": 6,
     "metadata": {},
     "output_type": "execute_result"
    }
   ],
   "source": [
    "ANNOTS.dtypes"
   ]
  },
  {
   "cell_type": "code",
   "execution_count": 7,
   "metadata": {},
   "outputs": [
    {
     "data": {
      "text/plain": [
       "'../data/ucf_action/Running\\\\001'"
      ]
     },
     "execution_count": 7,
     "metadata": {},
     "output_type": "execute_result"
    }
   ],
   "source": [
    "config.IMAGE_PATH"
   ]
  },
  {
   "cell_type": "code",
   "execution_count": 8,
   "metadata": {},
   "outputs": [],
   "source": [
    "# derive the path to the input image, load the image (in OpenCV\n",
    "# format), and grab its dimensions\n",
    "imagePath =config.IMAGE_PATH + '/' + ANNOTS.img_filename\n",
    "data = []\n",
    "for path in imagePath:\n",
    "    image = cv2.imread(imagePath[1])\n",
    "    (h, w) = image.shape[:2]\n",
    "    # scale the bounding box coordinates relative to the spatial\n",
    "\t# dimensions of the input image\n",
    "    startX = ANNOTS['startX'].astype(float) / w\n",
    "    startY = ANNOTS['startY'].astype(float) / h\n",
    "    endX = ANNOTS['endX'].astype(float) / w\n",
    "    endY = ANNOTS['endY'].astype(float) / h\n",
    "\n",
    "    img_cord = {'startX': startX, 'startY': startY, 'endX': endX, 'endY': endY}\n",
    "    img_cord_df = pd.DataFrame(img_cord)\n",
    "    # load the image and preprocess it\n",
    "    image = load_img(path, target_size=(224, 224))\n",
    "    image = img_to_array(image)\n",
    "    # update our list of data, targets, and filenames\n",
    "    data.append(image)\n",
    "\n",
    "\n"
   ]
  },
  {
   "cell_type": "code",
   "execution_count": 9,
   "metadata": {},
   "outputs": [],
   "source": [
    "# converting dataframe img_cord_df to list\n",
    "\n",
    "targets = img_cord_df.values.tolist()"
   ]
  },
  {
   "cell_type": "code",
   "execution_count": 10,
   "metadata": {},
   "outputs": [],
   "source": [
    "# convert the data and targets to NumPy arrays, scaling the input\n",
    "# pixel intensities from the range [0, 255] to [0, 1]\n",
    "data = np.array(data, dtype=\"float32\") / 255.0\n",
    "targets = np.array(targets, dtype=\"float32\")\n"
   ]
  },
  {
   "cell_type": "code",
   "execution_count": 11,
   "metadata": {},
   "outputs": [],
   "source": [
    "filenames = ANNOTS.img_filename.tolist()"
   ]
  },
  {
   "cell_type": "code",
   "execution_count": 12,
   "metadata": {},
   "outputs": [
    {
     "name": "stdout",
     "output_type": "stream",
     "text": [
      "[INFO] saving testing filenames...\n"
     ]
    }
   ],
   "source": [
    "# partition the data into training and testing splits using 90% of\n",
    "# the data for training and the remaining 10% for testing\n",
    "split = train_test_split(data, targets, filenames, test_size=0.10,\n",
    "\trandom_state=42)\n",
    "# unpack the data split\n",
    "(trainImages, testImages) = split[:2]\n",
    "(trainTargets, testTargets) = split[2:4]\n",
    "(trainFilenames, testFilenames) = split[4:]\n",
    "# write the testing filenames to disk so that we can use then\n",
    "# when evaluating/testing our bounding box regressor\n",
    "print(\"[INFO] saving testing filenames...\")\n",
    "f = open(config.TEST_FILENAMES, \"w\")\n",
    "f.write(\"\\n\".join(testFilenames))\n",
    "f.close()"
   ]
  },
  {
   "cell_type": "code",
   "execution_count": 13,
   "metadata": {},
   "outputs": [],
   "source": [
    "# load the VGG16 network, ensuring the head FC layers are left off\n",
    "vgg = VGG16(weights=\"imagenet\", include_top=False,\n",
    "\tinput_tensor=Input(shape=(224, 224, 3)))\n",
    "# freeze all VGG layers so they will *not* be updated during the\n",
    "# training process\n",
    "vgg.trainable = False\n",
    "# flatten the max-pooling output of VGG\n",
    "flatten = vgg.output\n",
    "flatten = Flatten()(flatten)\n",
    "# construct a fully-connected layer header to output the predicted\n",
    "# bounding box coordinates\n",
    "bboxHead = Dense(128, activation=\"relu\")(flatten)\n",
    "bboxHead = Dense(64, activation=\"relu\")(bboxHead)\n",
    "bboxHead = Dense(32, activation=\"relu\")(bboxHead)\n",
    "bboxHead = Dense(4, activation=\"sigmoid\")(bboxHead)\n",
    "# construct the model we will fine-tune for bounding box regression\n",
    "model = Model(inputs=vgg.input, outputs=bboxHead)"
   ]
  },
  {
   "cell_type": "code",
   "execution_count": 15,
   "metadata": {},
   "outputs": [
    {
     "name": "stdout",
     "output_type": "stream",
     "text": [
      "Model: \"model\"\n",
      "_________________________________________________________________\n",
      " Layer (type)                Output Shape              Param #   \n",
      "=================================================================\n",
      " input_1 (InputLayer)        [(None, 224, 224, 3)]     0         \n",
      "                                                                 \n",
      " block1_conv1 (Conv2D)       (None, 224, 224, 64)      1792      \n",
      "                                                                 \n",
      " block1_conv2 (Conv2D)       (None, 224, 224, 64)      36928     \n",
      "                                                                 \n",
      " block1_pool (MaxPooling2D)  (None, 112, 112, 64)      0         \n",
      "                                                                 \n",
      " block2_conv1 (Conv2D)       (None, 112, 112, 128)     73856     \n",
      "                                                                 \n",
      " block2_conv2 (Conv2D)       (None, 112, 112, 128)     147584    \n",
      "                                                                 \n",
      " block2_pool (MaxPooling2D)  (None, 56, 56, 128)       0         \n",
      "                                                                 \n",
      " block3_conv1 (Conv2D)       (None, 56, 56, 256)       295168    \n",
      "                                                                 \n",
      " block3_conv2 (Conv2D)       (None, 56, 56, 256)       590080    \n",
      "                                                                 \n",
      " block3_conv3 (Conv2D)       (None, 56, 56, 256)       590080    \n",
      "                                                                 \n",
      " block3_pool (MaxPooling2D)  (None, 28, 28, 256)       0         \n",
      "                                                                 \n",
      " block4_conv1 (Conv2D)       (None, 28, 28, 512)       1180160   \n",
      "                                                                 \n",
      " block4_conv2 (Conv2D)       (None, 28, 28, 512)       2359808   \n",
      "                                                                 \n",
      " block4_conv3 (Conv2D)       (None, 28, 28, 512)       2359808   \n",
      "                                                                 \n",
      " block4_pool (MaxPooling2D)  (None, 14, 14, 512)       0         \n",
      "                                                                 \n",
      " block5_conv1 (Conv2D)       (None, 14, 14, 512)       2359808   \n",
      "                                                                 \n",
      " block5_conv2 (Conv2D)       (None, 14, 14, 512)       2359808   \n",
      "                                                                 \n",
      " block5_conv3 (Conv2D)       (None, 14, 14, 512)       2359808   \n",
      "                                                                 \n",
      " block5_pool (MaxPooling2D)  (None, 7, 7, 512)         0         \n",
      "                                                                 \n",
      " flatten (Flatten)           (None, 25088)             0         \n",
      "                                                                 \n",
      " dense (Dense)               (None, 128)               3211392   \n",
      "                                                                 \n",
      " dense_1 (Dense)             (None, 64)                8256      \n",
      "                                                                 \n",
      " dense_2 (Dense)             (None, 32)                2080      \n",
      "                                                                 \n",
      " dense_3 (Dense)             (None, 4)                 132       \n",
      "                                                                 \n",
      "=================================================================\n",
      "Total params: 17,936,548\n",
      "Trainable params: 3,221,860\n",
      "Non-trainable params: 14,714,688\n",
      "_________________________________________________________________\n",
      "None\n"
     ]
    }
   ],
   "source": [
    "# initialize the optimizer, compile the model, and show the model\n",
    "# summary\n",
    "opt = Adam(learning_rate=config.INIT_LR)\n",
    "model.compile(loss=\"mse\", optimizer=opt)\n",
    "print(model.summary())\n"
   ]
  },
  {
   "cell_type": "code",
   "execution_count": 16,
   "metadata": {},
   "outputs": [
    {
     "name": "stdout",
     "output_type": "stream",
     "text": [
      "[INFO] training bounding box regressor...\n",
      "Epoch 1/25\n",
      "24/24 [==============================] - 14s 211ms/step - loss: 0.0203 - val_loss: 0.0056\n",
      "Epoch 2/25\n",
      "24/24 [==============================] - 2s 100ms/step - loss: 0.0050 - val_loss: 0.0041\n",
      "Epoch 3/25\n",
      "24/24 [==============================] - 2s 100ms/step - loss: 0.0035 - val_loss: 0.0030\n",
      "Epoch 4/25\n",
      "24/24 [==============================] - 2s 100ms/step - loss: 0.0027 - val_loss: 0.0027\n",
      "Epoch 5/25\n",
      "24/24 [==============================] - 2s 100ms/step - loss: 0.0024 - val_loss: 0.0025\n",
      "Epoch 6/25\n",
      "24/24 [==============================] - 2s 101ms/step - loss: 0.0020 - val_loss: 0.0025\n",
      "Epoch 7/25\n",
      "24/24 [==============================] - 2s 101ms/step - loss: 0.0019 - val_loss: 0.0024\n",
      "Epoch 8/25\n",
      "24/24 [==============================] - 2s 101ms/step - loss: 0.0017 - val_loss: 0.0023\n",
      "Epoch 9/25\n",
      "24/24 [==============================] - 2s 101ms/step - loss: 0.0016 - val_loss: 0.0022\n",
      "Epoch 10/25\n",
      "24/24 [==============================] - 2s 101ms/step - loss: 0.0016 - val_loss: 0.0023\n",
      "Epoch 11/25\n",
      "24/24 [==============================] - 2s 102ms/step - loss: 0.0015 - val_loss: 0.0021\n",
      "Epoch 12/25\n",
      "24/24 [==============================] - 2s 102ms/step - loss: 0.0014 - val_loss: 0.0022\n",
      "Epoch 13/25\n",
      "24/24 [==============================] - 2s 101ms/step - loss: 0.0014 - val_loss: 0.0020\n",
      "Epoch 14/25\n",
      "24/24 [==============================] - 2s 102ms/step - loss: 0.0014 - val_loss: 0.0021\n",
      "Epoch 15/25\n",
      "24/24 [==============================] - 2s 102ms/step - loss: 0.0014 - val_loss: 0.0021\n",
      "Epoch 16/25\n",
      "24/24 [==============================] - 2s 102ms/step - loss: 0.0014 - val_loss: 0.0021\n",
      "Epoch 17/25\n",
      "24/24 [==============================] - 2s 102ms/step - loss: 0.0014 - val_loss: 0.0020\n",
      "Epoch 18/25\n",
      "24/24 [==============================] - 2s 102ms/step - loss: 0.0013 - val_loss: 0.0021\n",
      "Epoch 19/25\n",
      "24/24 [==============================] - 2s 102ms/step - loss: 0.0013 - val_loss: 0.0020\n",
      "Epoch 20/25\n",
      "24/24 [==============================] - 2s 102ms/step - loss: 0.0013 - val_loss: 0.0020\n",
      "Epoch 21/25\n",
      "24/24 [==============================] - 2s 103ms/step - loss: 0.0013 - val_loss: 0.0021\n",
      "Epoch 22/25\n",
      "24/24 [==============================] - 2s 103ms/step - loss: 0.0013 - val_loss: 0.0020\n",
      "Epoch 23/25\n",
      "24/24 [==============================] - 2s 103ms/step - loss: 0.0013 - val_loss: 0.0021\n",
      "Epoch 24/25\n",
      "24/24 [==============================] - 2s 103ms/step - loss: 0.0013 - val_loss: 0.0019\n",
      "Epoch 25/25\n",
      "24/24 [==============================] - 2s 103ms/step - loss: 0.0012 - val_loss: 0.0019\n"
     ]
    }
   ],
   "source": [
    "# train the network for bounding box regression\n",
    "print(\"[INFO] training bounding box regressor...\")\n",
    "H = model.fit(\n",
    "\ttrainImages, trainTargets,\n",
    "\tvalidation_data=(testImages, testTargets),\n",
    "\tbatch_size=config.BATCH_SIZE,\n",
    "\tepochs=config.NUM_EPOCHS,\n",
    "\tverbose=1)"
   ]
  },
  {
   "cell_type": "code",
   "execution_count": 17,
   "metadata": {},
   "outputs": [
    {
     "name": "stdout",
     "output_type": "stream",
     "text": [
      "[INFO] saving object detector model...\n"
     ]
    },
    {
     "data": {
      "image/png": "[encoded data removed]",
      "text/plain": [
       "<Figure size 432x288 with 1 Axes>"
      ]
     },
     "metadata": {
      "needs_background": "light"
     },
     "output_type": "display_data"
    }
   ],
   "source": [
    "# serialize the model to disk\n",
    "print(\"[INFO] saving object detector model...\")\n",
    "model.save(config.MODEL_PATH, save_format=\"h5\")\n",
    "# plot the model training history\n",
    "N = config.NUM_EPOCHS\n",
    "plt.style.use(\"ggplot\")\n",
    "plt.figure()\n",
    "plt.plot(np.arange(0, N), H.history[\"loss\"], label=\"train_loss\")\n",
    "plt.plot(np.arange(0, N), H.history[\"val_loss\"], label=\"val_loss\")\n",
    "plt.title(\"Bounding Box Regression Loss on Training Set\")\n",
    "plt.xlabel(\"Epoch #\")\n",
    "plt.ylabel(\"Loss\")\n",
    "plt.legend(loc=\"lower left\")\n",
    "plt.savefig(config.PLOT_PATH)"
   ]
  },
  {
   "cell_type": "code",
   "execution_count": null,
   "metadata": {},
   "outputs": [],
   "source": []
  }
 ],
 "metadata": {
  "kernelspec": {
   "display_name": "Python 3.9.7 ('deepL')",
   "language": "python",
   "name": "python3"
  },
  "language_info": {
   "codemirror_mode": {
    "name": "ipython",
    "version": 3
   },
   "file_extension": ".py",
   "mimetype": "text/x-python",
   "name": "python",
   "nbconvert_exporter": "python",
   "pygments_lexer": "ipython3",
   "version": "3.9.7"
  },
  "orig_nbformat": 4,
  "vscode": {
   "interpreter": {
    "hash": "b90cab7ea642421f44636989edaf96d86cb1abe354b45ce6eed3b362842c2584"
   }
  }
 },
 "nbformat": 4,
 "nbformat_minor": 2
}
