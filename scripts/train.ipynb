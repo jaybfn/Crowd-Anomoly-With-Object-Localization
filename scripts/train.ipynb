{
 "cells": [
  {
   "cell_type": "code",
   "execution_count": 1,
   "metadata": {},
   "outputs": [],
   "source": [
    "# import the necessary packages\n",
    "import config\n",
    "from tensorflow.keras.applications import VGG16\n",
    "from tensorflow.keras.layers import Flatten\n",
    "from tensorflow.keras.layers import Dropout\n",
    "from tensorflow.keras.layers import Dense\n",
    "from tensorflow.keras.layers import Input\n",
    "from tensorflow.keras.models import Model\n",
    "from tensorflow.keras.optimizers import Adam\n",
    "from tensorflow.keras.preprocessing.image import img_to_array\n",
    "from tensorflow.keras.preprocessing.image import load_img\n",
    "from tensorflow.keras.utils import to_categorical\n",
    "from sklearn.preprocessing import LabelBinarizer\n",
    "from sklearn.model_selection import train_test_split\n",
    "from imutils import paths\n",
    "import matplotlib.pyplot as plt\n",
    "import numpy as np\n",
    "import pandas as pd\n",
    "import pickle\n",
    "import cv2\n",
    "import os"
   ]
  },
  {
   "cell_type": "code",
   "execution_count": 2,
   "metadata": {},
   "outputs": [],
   "source": [
    "def preprocessing(path, name):\n",
    "    # load the contents of the CSV annotations file\n",
    "    print(\"[INFO] loading dataset...\")\n",
    "    ANNOT_PATH = path\n",
    "\n",
    "    ANNOTS = pd.read_csv(ANNOT_PATH +'/' + name, index_col=0)\n",
    "    ANNOTS['filename'] = ANNOTS['filename'].astype('string')\n",
    "    ANNOTS['class'] = ANNOTS['class'].astype('string')\n",
    "\n",
    "    ANNOTS['img_filename'] = ANNOTS.filename.str.split(pat='.',n = 1, expand = True)[0]\n",
    "\n",
    "    ANNOTS['img_filename'] = ANNOTS['img_filename']+'.jpg'\n",
    "\n",
    "    return ANNOTS\n",
    "\n",
    "    "
   ]
  },
  {
   "cell_type": "code",
   "execution_count": 3,
   "metadata": {},
   "outputs": [
    {
     "name": "stdout",
     "output_type": "stream",
     "text": [
      "[INFO] loading dataset...\n",
      "[INFO] loading dataset...\n",
      "[INFO] loading dataset...\n"
     ]
    }
   ],
   "source": [
    "Running = preprocessing(config.ANNOTS_PATH, 'Running.csv')\n",
    "Kicking = preprocessing(config.ANNOTS_PATH, 'Kicking.csv')\n",
    "Walking = preprocessing(config.ANNOTS_PATH, 'Walking.csv')\n",
    "\n",
    "# concat_data = pd.concat([Running, Kicking, Walking])\n",
    "# concat_data.head()\n",
    "# concat_data.shape"
   ]
  },
  {
   "cell_type": "code",
   "execution_count": 4,
   "metadata": {},
   "outputs": [],
   "source": [
    "def img_preprocessing(path_name, name):\n",
    "\n",
    "    imagePath = config.IMAGE_PATH+'/'+path_name + '/'+name.img_filename \n",
    "    data = []\n",
    "    for path in imagePath:\n",
    "        image = cv2.imread(imagePath[1])\n",
    "        (h, w) = image.shape[:2]\n",
    "        # scale the bounding box coordinates relative to the spatial\n",
    "        # dimensions of the input image\n",
    "        startX = name['startX'].astype(float) / w\n",
    "        startY = name['startY'].astype(float) / h\n",
    "        endX = name['endX'].astype(float) / w\n",
    "        endY = name['endY'].astype(float) / h\n",
    "\n",
    "        img_cord = {'startX': startX, 'startY': startY, 'endX': endX, 'endY': endY}\n",
    "        img_cord_df = pd.DataFrame(img_cord)\n",
    "        # load the image and preprocess it\n",
    "        image = load_img(path, target_size=(224, 224))\n",
    "        image = img_to_array(image)\n",
    "        # update our list of data, targets, and filenames\n",
    "        data.append(image)\n",
    "    data = np.array(data, dtype=\"float32\") / 255.0\n",
    "    targets = img_cord_df.values.tolist()\n",
    "    targets = np.array(targets, dtype=\"float32\")\n",
    "    labels = name['class'].values.tolist()\n",
    "    labels = np.array(labels)   \n",
    "    filenames = name.img_filename.tolist()\n",
    "\n",
    "    return data, targets, labels, filenames\n"
   ]
  },
  {
   "cell_type": "code",
   "execution_count": 5,
   "metadata": {},
   "outputs": [],
   "source": [
    "KICKING_np, KICK_TARGETS, KICK_LABELS, KICK_FILENAMES = img_preprocessing('Kicking',Kicking)\n",
    "WALKING_np, WALK_TARGETS, WALK_LABELS, WALK_FILENAMES = img_preprocessing('Walking',Walking)\n",
    "RUNNING_np, RUN_TARGETS, RUN_LABELS, RUN_FILENAMES = img_preprocessing('Running',Running)"
   ]
  },
  {
   "cell_type": "code",
   "execution_count": 6,
   "metadata": {},
   "outputs": [
    {
     "data": {
      "text/plain": [
       "(2613, 224, 224, 3)"
      ]
     },
     "execution_count": 6,
     "metadata": {},
     "output_type": "execute_result"
    }
   ],
   "source": [
    "DATA_np = np.concatenate((KICKING_np, WALKING_np, RUNNING_np), axis = 0)\n",
    "DATA_np.shape"
   ]
  },
  {
   "cell_type": "code",
   "execution_count": 7,
   "metadata": {},
   "outputs": [
    {
     "data": {
      "text/plain": [
       "(2613, 4)"
      ]
     },
     "execution_count": 7,
     "metadata": {},
     "output_type": "execute_result"
    }
   ],
   "source": [
    "DATA_TARGETS  =np.concatenate((KICK_TARGETS, WALK_TARGETS, RUN_TARGETS), axis = 0)\n",
    "DATA_TARGETS.shape"
   ]
  },
  {
   "cell_type": "code",
   "execution_count": 8,
   "metadata": {},
   "outputs": [],
   "source": [
    "DATA_LABELS  =np.concatenate((KICK_LABELS, WALK_LABELS, RUN_LABELS), axis = 0)\n",
    "DATA_LABELS.shape\n",
    "# perform one-hot encoding on the labels\n",
    "lb = LabelBinarizer()\n",
    "LABELS = lb.fit_transform(DATA_LABELS)\n",
    "if len(lb.classes_) == 2:\n",
    "\tLABELS = to_categorical(LABELS)"
   ]
  },
  {
   "cell_type": "code",
   "execution_count": 9,
   "metadata": {},
   "outputs": [
    {
     "data": {
      "text/plain": [
       "(2613,)"
      ]
     },
     "execution_count": 9,
     "metadata": {},
     "output_type": "execute_result"
    }
   ],
   "source": [
    "DATA_FILENAMES  =np.concatenate((KICK_FILENAMES, WALK_FILENAMES, RUN_FILENAMES), axis = 0)\n",
    "DATA_FILENAMES.shape"
   ]
  },
  {
   "cell_type": "code",
   "execution_count": 10,
   "metadata": {},
   "outputs": [
    {
     "name": "stdout",
     "output_type": "stream",
     "text": [
      "[INFO] saving testing image paths...\n"
     ]
    }
   ],
   "source": [
    "# partition the data into training and testing splits using 90% of\n",
    "# the data for training and the remaining 10% for testing\n",
    "split = train_test_split(DATA_np, LABELS, DATA_TARGETS, DATA_FILENAMES,test_size=0.20, random_state=42)\n",
    "# unpack the data split\n",
    "(trainImages, testImages) = split[:2]\n",
    "(trainLabels, testLabels) = split[2:4]\n",
    "(trainBBoxes, testBBoxes) = split[4:6]\n",
    "(trainPaths, testPaths) = split[6:]\n",
    "# write the testing filenames to disk so that we can use then\n",
    "# when evaluating/testing our bounding box regressor\n",
    "print(\"[INFO] saving testing image paths...\")\n",
    "f = open(config.TEST_PATHS, \"w\")\n",
    "f.write(\"\\n\".join(testPaths))\n",
    "f.close()"
   ]
  },
  {
   "cell_type": "code",
   "execution_count": 11,
   "metadata": {},
   "outputs": [],
   "source": [
    "# load the VGG16 network, ensuring the head FC layers are left off\n",
    "vgg = VGG16(weights=\"imagenet\", include_top=False,\n",
    "\tinput_tensor=Input(shape=(224, 224, 3)))\n",
    "# freeze all VGG layers so they will *not* be updated during the\n",
    "# training process\n",
    "vgg.trainable = False\n",
    "# flatten the max-pooling output of VGG\n",
    "flatten = vgg.output\n",
    "flatten = Flatten()(flatten)"
   ]
  },
  {
   "cell_type": "code",
   "execution_count": 12,
   "metadata": {},
   "outputs": [],
   "source": [
    "# construct a fully-connected layer header to output the predicted\n",
    "# bounding box coordinates\n",
    "bboxHead = Dense(256, activation=\"relu\")(flatten)\n",
    "bboxHead = Dense(128, activation=\"relu\")(bboxHead)\n",
    "bboxHead = Dense(64, activation=\"relu\")(bboxHead)\n",
    "bboxHead = Dense(4, activation=\"sigmoid\",name=\"bounding_box\")(bboxHead)\n",
    "# construct a second fully-connected layer head, this one to predict\n",
    "# the class label\n",
    "softmaxHead = Dense(512, activation=\"relu\")(flatten)\n",
    "softmaxHead = Dropout(0.2)(softmaxHead)\n",
    "softmaxHead = Dense(512, activation=\"relu\")(softmaxHead)\n",
    "softmaxHead = Dropout(0.2)(softmaxHead)\n",
    "softmaxHead = Dense(len(lb.classes_), activation=\"softmax\",\n",
    "\tname=\"class_label\")(softmaxHead)\n",
    "# put together our model which accept an input image and then output\n",
    "# bounding box coordinates and a class label\n",
    "model = Model(\n",
    "\tinputs=vgg.input,\n",
    "\toutputs=(bboxHead, softmaxHead))"
   ]
  },
  {
   "cell_type": "code",
   "execution_count": 13,
   "metadata": {},
   "outputs": [
    {
     "name": "stdout",
     "output_type": "stream",
     "text": [
      "Model: \"model\"\n",
      "__________________________________________________________________________________________________\n",
      " Layer (type)                   Output Shape         Param #     Connected to                     \n",
      "==================================================================================================\n",
      " input_1 (InputLayer)           [(None, 224, 224, 3  0           []                               \n",
      "                                )]                                                                \n",
      "                                                                                                  \n",
      " block1_conv1 (Conv2D)          (None, 224, 224, 64  1792        ['input_1[0][0]']                \n",
      "                                )                                                                 \n",
      "                                                                                                  \n",
      " block1_conv2 (Conv2D)          (None, 224, 224, 64  36928       ['block1_conv1[0][0]']           \n",
      "                                )                                                                 \n",
      "                                                                                                  \n",
      " block1_pool (MaxPooling2D)     (None, 112, 112, 64  0           ['block1_conv2[0][0]']           \n",
      "                                )                                                                 \n",
      "                                                                                                  \n",
      " block2_conv1 (Conv2D)          (None, 112, 112, 12  73856       ['block1_pool[0][0]']            \n",
      "                                8)                                                                \n",
      "                                                                                                  \n",
      " block2_conv2 (Conv2D)          (None, 112, 112, 12  147584      ['block2_conv1[0][0]']           \n",
      "                                8)                                                                \n",
      "                                                                                                  \n",
      " block2_pool (MaxPooling2D)     (None, 56, 56, 128)  0           ['block2_conv2[0][0]']           \n",
      "                                                                                                  \n",
      " block3_conv1 (Conv2D)          (None, 56, 56, 256)  295168      ['block2_pool[0][0]']            \n",
      "                                                                                                  \n",
      " block3_conv2 (Conv2D)          (None, 56, 56, 256)  590080      ['block3_conv1[0][0]']           \n",
      "                                                                                                  \n",
      " block3_conv3 (Conv2D)          (None, 56, 56, 256)  590080      ['block3_conv2[0][0]']           \n",
      "                                                                                                  \n",
      " block3_pool (MaxPooling2D)     (None, 28, 28, 256)  0           ['block3_conv3[0][0]']           \n",
      "                                                                                                  \n",
      " block4_conv1 (Conv2D)          (None, 28, 28, 512)  1180160     ['block3_pool[0][0]']            \n",
      "                                                                                                  \n",
      " block4_conv2 (Conv2D)          (None, 28, 28, 512)  2359808     ['block4_conv1[0][0]']           \n",
      "                                                                                                  \n",
      " block4_conv3 (Conv2D)          (None, 28, 28, 512)  2359808     ['block4_conv2[0][0]']           \n",
      "                                                                                                  \n",
      " block4_pool (MaxPooling2D)     (None, 14, 14, 512)  0           ['block4_conv3[0][0]']           \n",
      "                                                                                                  \n",
      " block5_conv1 (Conv2D)          (None, 14, 14, 512)  2359808     ['block4_pool[0][0]']            \n",
      "                                                                                                  \n",
      " block5_conv2 (Conv2D)          (None, 14, 14, 512)  2359808     ['block5_conv1[0][0]']           \n",
      "                                                                                                  \n",
      " block5_conv3 (Conv2D)          (None, 14, 14, 512)  2359808     ['block5_conv2[0][0]']           \n",
      "                                                                                                  \n",
      " block5_pool (MaxPooling2D)     (None, 7, 7, 512)    0           ['block5_conv3[0][0]']           \n",
      "                                                                                                  \n",
      " flatten (Flatten)              (None, 25088)        0           ['block5_pool[0][0]']            \n",
      "                                                                                                  \n",
      " dense_3 (Dense)                (None, 512)          12845568    ['flatten[0][0]']                \n",
      "                                                                                                  \n",
      " dense (Dense)                  (None, 256)          6422784     ['flatten[0][0]']                \n",
      "                                                                                                  \n",
      " dropout (Dropout)              (None, 512)          0           ['dense_3[0][0]']                \n",
      "                                                                                                  \n",
      " dense_1 (Dense)                (None, 128)          32896       ['dense[0][0]']                  \n",
      "                                                                                                  \n",
      " dense_4 (Dense)                (None, 512)          262656      ['dropout[0][0]']                \n",
      "                                                                                                  \n",
      " dense_2 (Dense)                (None, 64)           8256        ['dense_1[0][0]']                \n",
      "                                                                                                  \n",
      " dropout_1 (Dropout)            (None, 512)          0           ['dense_4[0][0]']                \n",
      "                                                                                                  \n",
      " bounding_box (Dense)           (None, 4)            260         ['dense_2[0][0]']                \n",
      "                                                                                                  \n",
      " class_label (Dense)            (None, 3)            1539        ['dropout_1[0][0]']              \n",
      "                                                                                                  \n",
      "==================================================================================================\n",
      "Total params: 34,288,647\n",
      "Trainable params: 19,573,959\n",
      "Non-trainable params: 14,714,688\n",
      "__________________________________________________________________________________________________\n",
      "None\n"
     ]
    }
   ],
   "source": [
    "# define a dictionary to set the loss methods -- categorical\n",
    "# cross-entropy for the class label head and mean absolute error\n",
    "# for the bounding box head\n",
    "losses = {\n",
    "\t\"class_label\": \"categorical_crossentropy\",\n",
    "\t\"bounding_box\": \"mean_squared_error\",\n",
    "}\n",
    "# define a dictionary that specifies the weights per loss (both the\n",
    "# class label and bounding box outputs will receive equal weight)\n",
    "lossWeights = {\n",
    "\t\"class_label\": 1.0,\n",
    "\t\"bounding_box\": 1.0\n",
    "}\n",
    "# initialize the optimizer, compile the model, and show the model\n",
    "# summary\n",
    "opt = Adam(learning_rate=config.INIT_LR)\n",
    "model.compile(loss=losses, optimizer=opt, metrics=[\"accuracy\"], loss_weights=lossWeights)\n",
    "print(model.summary())\n"
   ]
  },
  {
   "cell_type": "code",
   "execution_count": 14,
   "metadata": {},
   "outputs": [],
   "source": [
    "# construct a dictionary for our target training outputs\n",
    "trainTargets = {\n",
    "\t\"class_label\": trainLabels,\n",
    "\t\"bounding_box\": trainBBoxes\n",
    "}\n",
    "# construct a second dictionary, this one for our target testing\n",
    "# outputs\n",
    "testTargets = {\n",
    "\t\"class_label\": testLabels,\n",
    "\t\"bounding_box\": testBBoxes\n",
    "}"
   ]
  },
  {
   "cell_type": "code",
   "execution_count": 15,
   "metadata": {},
   "outputs": [
    {
     "name": "stdout",
     "output_type": "stream",
     "text": [
      "[INFO] training model...\n",
      "Epoch 1/30\n",
      "131/131 [==============================] - 21s 82ms/step - loss: 0.5326 - bounding_box_loss: 0.0225 - class_label_loss: 0.5101 - bounding_box_accuracy: 0.8512 - class_label_accuracy: 0.8172 - val_loss: 0.1945 - val_bounding_box_loss: 0.0099 - val_class_label_loss: 0.1846 - val_bounding_box_accuracy: 0.9331 - val_class_label_accuracy: 0.9885\n",
      "Epoch 2/30\n",
      "131/131 [==============================] - 8s 63ms/step - loss: 0.1397 - bounding_box_loss: 0.0058 - class_label_loss: 0.1339 - bounding_box_accuracy: 0.9426 - class_label_accuracy: 0.9828 - val_loss: 0.0736 - val_bounding_box_loss: 0.0059 - val_class_label_loss: 0.0677 - val_bounding_box_accuracy: 0.9522 - val_class_label_accuracy: 0.9885\n",
      "Epoch 3/30\n",
      "131/131 [==============================] - 8s 63ms/step - loss: 0.0578 - bounding_box_loss: 0.0037 - class_label_loss: 0.0542 - bounding_box_accuracy: 0.9598 - class_label_accuracy: 0.9962 - val_loss: 0.0366 - val_bounding_box_loss: 0.0046 - val_class_label_loss: 0.0321 - val_bounding_box_accuracy: 0.9732 - val_class_label_accuracy: 0.9962\n",
      "Epoch 4/30\n",
      "131/131 [==============================] - 8s 63ms/step - loss: 0.0322 - bounding_box_loss: 0.0028 - class_label_loss: 0.0294 - bounding_box_accuracy: 0.9699 - class_label_accuracy: 0.9990 - val_loss: 0.0221 - val_bounding_box_loss: 0.0039 - val_class_label_loss: 0.0182 - val_bounding_box_accuracy: 0.9656 - val_class_label_accuracy: 0.9981\n",
      "Epoch 5/30\n",
      "131/131 [==============================] - 8s 64ms/step - loss: 0.0192 - bounding_box_loss: 0.0023 - class_label_loss: 0.0169 - bounding_box_accuracy: 0.9679 - class_label_accuracy: 0.9995 - val_loss: 0.0148 - val_bounding_box_loss: 0.0033 - val_class_label_loss: 0.0115 - val_bounding_box_accuracy: 0.9790 - val_class_label_accuracy: 0.9981\n",
      "Epoch 6/30\n",
      "131/131 [==============================] - 8s 64ms/step - loss: 0.0134 - bounding_box_loss: 0.0020 - class_label_loss: 0.0114 - bounding_box_accuracy: 0.9679 - class_label_accuracy: 0.9990 - val_loss: 0.0117 - val_bounding_box_loss: 0.0031 - val_class_label_loss: 0.0086 - val_bounding_box_accuracy: 0.9924 - val_class_label_accuracy: 0.9981\n",
      "Epoch 7/30\n",
      "131/131 [==============================] - 8s 64ms/step - loss: 0.0100 - bounding_box_loss: 0.0018 - class_label_loss: 0.0082 - bounding_box_accuracy: 0.9746 - class_label_accuracy: 0.9995 - val_loss: 0.0078 - val_bounding_box_loss: 0.0028 - val_class_label_loss: 0.0050 - val_bounding_box_accuracy: 0.9809 - val_class_label_accuracy: 1.0000\n",
      "Epoch 8/30\n",
      "131/131 [==============================] - 8s 64ms/step - loss: 0.0070 - bounding_box_loss: 0.0016 - class_label_loss: 0.0054 - bounding_box_accuracy: 0.9804 - class_label_accuracy: 1.0000 - val_loss: 0.0064 - val_bounding_box_loss: 0.0027 - val_class_label_loss: 0.0038 - val_bounding_box_accuracy: 0.9828 - val_class_label_accuracy: 1.0000\n",
      "Epoch 9/30\n",
      "131/131 [==============================] - 8s 64ms/step - loss: 0.0063 - bounding_box_loss: 0.0015 - class_label_loss: 0.0048 - bounding_box_accuracy: 0.9780 - class_label_accuracy: 1.0000 - val_loss: 0.0058 - val_bounding_box_loss: 0.0025 - val_class_label_loss: 0.0033 - val_bounding_box_accuracy: 0.9790 - val_class_label_accuracy: 1.0000\n",
      "Epoch 10/30\n",
      "131/131 [==============================] - 8s 64ms/step - loss: 0.0042 - bounding_box_loss: 0.0014 - class_label_loss: 0.0028 - bounding_box_accuracy: 0.9828 - class_label_accuracy: 1.0000 - val_loss: 0.0048 - val_bounding_box_loss: 0.0024 - val_class_label_loss: 0.0024 - val_bounding_box_accuracy: 0.9828 - val_class_label_accuracy: 1.0000\n",
      "Epoch 11/30\n",
      "131/131 [==============================] - 8s 64ms/step - loss: 0.0036 - bounding_box_loss: 0.0013 - class_label_loss: 0.0022 - bounding_box_accuracy: 0.9823 - class_label_accuracy: 1.0000 - val_loss: 0.0048 - val_bounding_box_loss: 0.0023 - val_class_label_loss: 0.0025 - val_bounding_box_accuracy: 0.9885 - val_class_label_accuracy: 1.0000\n",
      "Epoch 12/30\n",
      "131/131 [==============================] - 8s 64ms/step - loss: 0.0034 - bounding_box_loss: 0.0013 - class_label_loss: 0.0021 - bounding_box_accuracy: 0.9780 - class_label_accuracy: 1.0000 - val_loss: 0.0038 - val_bounding_box_loss: 0.0023 - val_class_label_loss: 0.0015 - val_bounding_box_accuracy: 0.9790 - val_class_label_accuracy: 1.0000\n",
      "Epoch 13/30\n",
      "131/131 [==============================] - 8s 65ms/step - loss: 0.0029 - bounding_box_loss: 0.0012 - class_label_loss: 0.0017 - bounding_box_accuracy: 0.9837 - class_label_accuracy: 1.0000 - val_loss: 0.0036 - val_bounding_box_loss: 0.0023 - val_class_label_loss: 0.0013 - val_bounding_box_accuracy: 0.9828 - val_class_label_accuracy: 1.0000\n",
      "Epoch 14/30\n",
      "131/131 [==============================] - 8s 64ms/step - loss: 0.0027 - bounding_box_loss: 0.0012 - class_label_loss: 0.0015 - bounding_box_accuracy: 0.9833 - class_label_accuracy: 1.0000 - val_loss: 0.0033 - val_bounding_box_loss: 0.0022 - val_class_label_loss: 0.0011 - val_bounding_box_accuracy: 0.9866 - val_class_label_accuracy: 1.0000\n",
      "Epoch 15/30\n",
      "131/131 [==============================] - 8s 64ms/step - loss: 0.0025 - bounding_box_loss: 0.0012 - class_label_loss: 0.0013 - bounding_box_accuracy: 0.9833 - class_label_accuracy: 1.0000 - val_loss: 0.0032 - val_bounding_box_loss: 0.0021 - val_class_label_loss: 0.0011 - val_bounding_box_accuracy: 0.9904 - val_class_label_accuracy: 1.0000\n",
      "Epoch 16/30\n",
      "131/131 [==============================] - 8s 64ms/step - loss: 0.0022 - bounding_box_loss: 0.0011 - class_label_loss: 0.0011 - bounding_box_accuracy: 0.9856 - class_label_accuracy: 1.0000 - val_loss: 0.0034 - val_bounding_box_loss: 0.0021 - val_class_label_loss: 0.0013 - val_bounding_box_accuracy: 0.9885 - val_class_label_accuracy: 1.0000\n",
      "Epoch 17/30\n",
      "131/131 [==============================] - 8s 64ms/step - loss: 0.0021 - bounding_box_loss: 0.0011 - class_label_loss: 9.7689e-04 - bounding_box_accuracy: 0.9837 - class_label_accuracy: 1.0000 - val_loss: 0.0029 - val_bounding_box_loss: 0.0021 - val_class_label_loss: 8.2755e-04 - val_bounding_box_accuracy: 0.9790 - val_class_label_accuracy: 1.0000\n",
      "Epoch 18/30\n",
      "131/131 [==============================] - 8s 65ms/step - loss: 0.0018 - bounding_box_loss: 0.0011 - class_label_loss: 7.0549e-04 - bounding_box_accuracy: 0.9847 - class_label_accuracy: 1.0000 - val_loss: 0.0029 - val_bounding_box_loss: 0.0021 - val_class_label_loss: 7.6874e-04 - val_bounding_box_accuracy: 0.9809 - val_class_label_accuracy: 1.0000\n",
      "Epoch 19/30\n",
      "131/131 [==============================] - 8s 65ms/step - loss: 0.0017 - bounding_box_loss: 0.0011 - class_label_loss: 6.6946e-04 - bounding_box_accuracy: 0.9861 - class_label_accuracy: 1.0000 - val_loss: 0.0028 - val_bounding_box_loss: 0.0021 - val_class_label_loss: 6.6916e-04 - val_bounding_box_accuracy: 0.9847 - val_class_label_accuracy: 1.0000\n",
      "Epoch 20/30\n",
      "131/131 [==============================] - 8s 65ms/step - loss: 0.0017 - bounding_box_loss: 0.0011 - class_label_loss: 6.8543e-04 - bounding_box_accuracy: 0.9847 - class_label_accuracy: 1.0000 - val_loss: 0.0028 - val_bounding_box_loss: 0.0020 - val_class_label_loss: 7.5171e-04 - val_bounding_box_accuracy: 0.9809 - val_class_label_accuracy: 1.0000\n",
      "Epoch 21/30\n",
      "131/131 [==============================] - 8s 65ms/step - loss: 0.0016 - bounding_box_loss: 0.0011 - class_label_loss: 5.0247e-04 - bounding_box_accuracy: 0.9847 - class_label_accuracy: 1.0000 - val_loss: 0.0026 - val_bounding_box_loss: 0.0021 - val_class_label_loss: 5.0826e-04 - val_bounding_box_accuracy: 0.9904 - val_class_label_accuracy: 1.0000\n",
      "Epoch 22/30\n",
      "131/131 [==============================] - 8s 65ms/step - loss: 0.0015 - bounding_box_loss: 0.0010 - class_label_loss: 4.7960e-04 - bounding_box_accuracy: 0.9880 - class_label_accuracy: 1.0000 - val_loss: 0.0027 - val_bounding_box_loss: 0.0020 - val_class_label_loss: 6.4509e-04 - val_bounding_box_accuracy: 0.9885 - val_class_label_accuracy: 1.0000\n",
      "Epoch 23/30\n",
      "131/131 [==============================] - 8s 65ms/step - loss: 0.0014 - bounding_box_loss: 0.0010 - class_label_loss: 4.1617e-04 - bounding_box_accuracy: 0.9852 - class_label_accuracy: 1.0000 - val_loss: 0.0026 - val_bounding_box_loss: 0.0021 - val_class_label_loss: 5.1422e-04 - val_bounding_box_accuracy: 0.9790 - val_class_label_accuracy: 1.0000\n",
      "Epoch 24/30\n",
      "131/131 [==============================] - 8s 65ms/step - loss: 0.0014 - bounding_box_loss: 0.0010 - class_label_loss: 3.8228e-04 - bounding_box_accuracy: 0.9847 - class_label_accuracy: 1.0000 - val_loss: 0.0025 - val_bounding_box_loss: 0.0020 - val_class_label_loss: 4.7078e-04 - val_bounding_box_accuracy: 0.9866 - val_class_label_accuracy: 1.0000\n",
      "Epoch 25/30\n",
      "131/131 [==============================] - 8s 65ms/step - loss: 0.0014 - bounding_box_loss: 0.0010 - class_label_loss: 3.3150e-04 - bounding_box_accuracy: 0.9866 - class_label_accuracy: 1.0000 - val_loss: 0.0024 - val_bounding_box_loss: 0.0021 - val_class_label_loss: 3.5479e-04 - val_bounding_box_accuracy: 0.9885 - val_class_label_accuracy: 1.0000\n",
      "Epoch 26/30\n",
      "131/131 [==============================] - 8s 65ms/step - loss: 0.0013 - bounding_box_loss: 0.0010 - class_label_loss: 2.7557e-04 - bounding_box_accuracy: 0.9823 - class_label_accuracy: 1.0000 - val_loss: 0.0025 - val_bounding_box_loss: 0.0020 - val_class_label_loss: 4.8208e-04 - val_bounding_box_accuracy: 0.9904 - val_class_label_accuracy: 1.0000\n",
      "Epoch 27/30\n",
      "131/131 [==============================] - 8s 65ms/step - loss: 0.0013 - bounding_box_loss: 9.9968e-04 - class_label_loss: 2.8621e-04 - bounding_box_accuracy: 0.9852 - class_label_accuracy: 1.0000 - val_loss: 0.0024 - val_bounding_box_loss: 0.0020 - val_class_label_loss: 3.5625e-04 - val_bounding_box_accuracy: 0.9924 - val_class_label_accuracy: 1.0000\n",
      "Epoch 28/30\n",
      "131/131 [==============================] - 8s 65ms/step - loss: 0.0012 - bounding_box_loss: 9.9940e-04 - class_label_loss: 2.3975e-04 - bounding_box_accuracy: 0.9818 - class_label_accuracy: 1.0000 - val_loss: 0.0023 - val_bounding_box_loss: 0.0020 - val_class_label_loss: 3.1599e-04 - val_bounding_box_accuracy: 0.9885 - val_class_label_accuracy: 1.0000\n",
      "Epoch 29/30\n",
      "131/131 [==============================] - 8s 65ms/step - loss: 0.0012 - bounding_box_loss: 0.0010 - class_label_loss: 2.2259e-04 - bounding_box_accuracy: 0.9861 - class_label_accuracy: 1.0000 - val_loss: 0.0023 - val_bounding_box_loss: 0.0020 - val_class_label_loss: 2.6813e-04 - val_bounding_box_accuracy: 0.9809 - val_class_label_accuracy: 1.0000\n",
      "Epoch 30/30\n",
      "131/131 [==============================] - 8s 65ms/step - loss: 0.0012 - bounding_box_loss: 9.8876e-04 - class_label_loss: 2.1193e-04 - bounding_box_accuracy: 0.9847 - class_label_accuracy: 1.0000 - val_loss: 0.0023 - val_bounding_box_loss: 0.0020 - val_class_label_loss: 3.4502e-04 - val_bounding_box_accuracy: 0.9866 - val_class_label_accuracy: 1.0000\n"
     ]
    }
   ],
   "source": [
    "# train the network for bounding box regression and class label\n",
    "# prediction\n",
    "print(\"[INFO] training model...\")\n",
    "H = model.fit(\n",
    "\ttrainImages, trainTargets,\n",
    "\tvalidation_data=(testImages, testTargets),\n",
    "\tbatch_size=config.BATCH_SIZE,\n",
    "\tepochs=config.NUM_EPOCHS,\n",
    "\tverbose=1)\n"
   ]
  },
  {
   "cell_type": "code",
   "execution_count": 19,
   "metadata": {},
   "outputs": [
    {
     "name": "stdout",
     "output_type": "stream",
     "text": [
      "[INFO] saving object detector model...\n",
      "[INFO] saving label binarizer...\n"
     ]
    }
   ],
   "source": [
    "# serialize the model to disk\n",
    "print(\"[INFO] saving object detector model...\")\n",
    "model.save(config.MODEL_PATH, save_format=\"h5\")\n",
    "# serialize the label binarizer to disk\n",
    "print(\"[INFO] saving label binarizer...\")\n",
    "f = open(config.LB_PATH, \"wb\")\n",
    "f.write(pickle.dumps(lb))\n",
    "f.close()"
   ]
  },
  {
   "cell_type": "code",
   "execution_count": 20,
   "metadata": {},
   "outputs": [
    {
     "name": "stdout",
     "output_type": "stream",
     "text": [
      "../Model_Output\\plots\\losses.png\n"
     ]
    }
   ],
   "source": [
    "# plot the total loss, label loss, and bounding box loss\n",
    "lossNames = [\"loss\", \"class_label_loss\", \"bounding_box_loss\"]\n",
    "N = np.arange(0, config.NUM_EPOCHS)\n",
    "plt.style.use(\"ggplot\")\n",
    "(fig, ax) = plt.subplots(3, 1, figsize=(13, 13))\n",
    "# loop over the loss names\n",
    "for (i, l) in enumerate(lossNames):\n",
    "\t# plot the loss for both the training and validation data\n",
    "\ttitle = \"Loss for {}\".format(l) if l != \"loss\" else \"Total loss\"\n",
    "\tax[i].set_title(title)\n",
    "\tax[i].set_xlabel(\"Epoch #\")\n",
    "\tax[i].set_ylabel(\"Loss\")\n",
    "\tax[i].plot(N, H.history[l], label=l)\n",
    "\tax[i].plot(N, H.history[\"val_\" + l], label=\"val_\" + l)\n",
    "\tax[i].legend()\n",
    "# save the losses figure and create a new figure for the accuracies\n",
    "plt.tight_layout()\n",
    "plotPath = os.path.sep.join([config.PLOT_PATH, \"losses.png\"])\n",
    "print(plotPath)\n",
    "plt.savefig(plotPath)\n",
    "plt.close()"
   ]
  },
  {
   "cell_type": "code",
   "execution_count": 21,
   "metadata": {},
   "outputs": [
    {
     "data": {
      "image/png": "[encoded data removed]",
      "text/plain": [
       "<Figure size 432x288 with 1 Axes>"
      ]
     },
     "metadata": {},
     "output_type": "display_data"
    }
   ],
   "source": [
    "plt.style.use(\"ggplot\")\n",
    "plt.figure()\n",
    "plt.plot(N, H.history[\"class_label_accuracy\"],\n",
    "\tlabel=\"class_label_train_acc\")\n",
    "plt.plot(N, H.history[\"val_class_label_accuracy\"],\n",
    "\tlabel=\"val_class_label_acc\")\n",
    "plt.title(\"Class Label Accuracy\")\n",
    "plt.xlabel(\"Epoch #\")\n",
    "plt.ylabel(\"Accuracy\")\n",
    "plt.legend(loc=\"lower left\")\n",
    "# save the accuracies plot\n",
    "plotPath = os.path.sep.join([config.PLOT_PATH, \"accs.png\"])\n",
    "plt.savefig(plotPath)"
   ]
  },
  {
   "cell_type": "code",
   "execution_count": null,
   "metadata": {},
   "outputs": [],
   "source": []
  }
 ],
 "metadata": {
  "kernelspec": {
   "display_name": "Python 3.9.7 ('deepL')",
   "language": "python",
   "name": "python3"
  },
  "language_info": {
   "codemirror_mode": {
    "name": "ipython",
    "version": 3
   },
   "file_extension": ".py",
   "mimetype": "text/x-python",
   "name": "python",
   "nbconvert_exporter": "python",
   "pygments_lexer": "ipython3",
   "version": "3.9.7"
  },
  "orig_nbformat": 4,
  "vscode": {
   "interpreter": {
    "hash": "b90cab7ea642421f44636989edaf96d86cb1abe354b45ce6eed3b362842c2584"
   }
  }
 },
 "nbformat": 4,
 "nbformat_minor": 2
}
