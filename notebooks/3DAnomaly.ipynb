{
 "cells": [
  {
   "cell_type": "code",
   "execution_count": 1,
   "metadata": {},
   "outputs": [],
   "source": [
    "import glob\n",
    "import os \n",
    "from os import listdir\n",
    "import numpy as np\n",
    "import pandas as pd\n",
    "import seaborn as sns\n",
    "import cv2\n",
    "from PIL import Image as im\n",
    "from skimage import data, color\n",
    "from skimage.transform import rescale, resize, downscale_local_mean\n",
    "import argparse\n",
    "from PIL import Image\n",
    "import matplotlib.pyplot as plt\n",
    "import random\n",
    "from datetime import datetime \n",
    "from numpy.random import seed\n",
    "from sklearn.model_selection import train_test_split\n",
    "import tensorflow as tf\n",
    "from tensorflow import keras\n",
    "from keras.preprocessing.image import ImageDataGenerator\n",
    "from tensorflow.keras import backend as K\n",
    "tf.config.optimizer.set_experimental_options({'layout_optimizer': False})\n",
    "plt.style.use('fivethirtyeight')\n",
    "\n",
    "import os\n",
    "from tensorflow.keras.models import Sequential\n",
    "from tensorflow.keras.layers import Conv3D, ConvLSTM2D, Conv3DTranspose\n",
    "\n"
   ]
  },
  {
   "cell_type": "code",
   "execution_count": 2,
   "metadata": {},
   "outputs": [],
   "source": [
    "# function to create all the necessary directory!\n",
    "\n",
    "def create_dir(path):\n",
    "        isExist = os.path.exists(path)\n",
    "        if not isExist:\n",
    "            os.makedirs(path, exist_ok = False)\n",
    "            print(\"New directory is created\")\n",
    "\n",
    "def reshape_array(numpy_data_X, BATCH_SIZE):\n",
    "    \n",
    "    frames=numpy_data_X.shape[2]\n",
    "    frames=frames-frames%BATCH_SIZE\n",
    "    numpy_data_X=numpy_data_X[:,:,:frames]\n",
    "    numpy_data_X=numpy_data_X.reshape(-1,SIZE,SIZE,BATCH_SIZE)\n",
    "    numpy_data_X=np.expand_dims(numpy_data_X,axis=4)\n",
    "    numpy_data_y=numpy_data_X.copy()\n",
    "    return numpy_data_X, numpy_data_y\n",
    "\n",
    "def img_transformation(generators):\n",
    "    \"\"\" for 3D conv we need an extra dimention in the data\"\"\"\n",
    "    x ,y = generators.__next__()\n",
    "    x = np.expand_dims(x,axis=4)\n",
    "    y = x.copy()\n",
    "    return x ,y\n",
    "\n",
    "def metricplot(df, xlab, ylab_1,ylab_2, path):\n",
    "    \n",
    "    \"\"\"\n",
    "    This function plots metric curves and saves it\n",
    "    to respective folder\n",
    "    inputs: df : pandas dataframe \n",
    "            xlab: x-axis\n",
    "            ylab_1 : yaxis_1\n",
    "            ylab_2 : yaxis_2\n",
    "            path: full path for saving the plot\n",
    "            \"\"\"\n",
    "    plt.figure()\n",
    "    sns.set_theme(style=\"darkgrid\")\n",
    "    sns.lineplot(x = df[xlab], y = df[ylab_1])\n",
    "    sns.lineplot(x = df[xlab], y = df[ylab_2])\n",
    "    plt.xlabel('Epochs',fontsize = 12)\n",
    "    plt.ylabel(ylab_1,fontsize = 12)\n",
    "    plt.xticks(fontsize = 12)\n",
    "    plt.yticks(fontsize = 12)\n",
    "    plt.legend([ylab_1,ylab_2], prop={\"size\":12})\n",
    "    plt.savefig(path+'/'+ ylab_1)\n",
    "    #plt.show()"
   ]
  },
  {
   "cell_type": "code",
   "execution_count": 3,
   "metadata": {},
   "outputs": [
    {
     "name": "stdout",
     "output_type": "stream",
     "text": [
      "\n",
      "\n",
      "A folder with exp3D name has be created to store all the model details!\n",
      "\n",
      "\n"
     ]
    }
   ],
   "source": [
    "seed(42)\n",
    "tf.random.set_seed(42) \n",
    "keras.backend.clear_session()\n",
    "\n",
    "#creating main folder\n",
    "today = datetime.now()\n",
    "today  = today.strftime('%Y_%m_%d')\n",
    "path = 'Model_Outputs/'+ today\n",
    "create_dir(path)\n",
    "\n",
    "# creating directory to save model and its output\n",
    "EXPERIMENT_NAME = input('Enter new Experiment name:')\n",
    "print('\\n')\n",
    "print('A folder with',EXPERIMENT_NAME,'name has be created to store all the model details!')\n",
    "print('\\n')\n",
    "folder = EXPERIMENT_NAME\n",
    "path_main = path + '/'+ folder\n",
    "create_dir(path_main)\n",
    "\n",
    "# creating directory to save all the metric data\n",
    "folder = 'metrics'\n",
    "path_metrics = path_main +'/'+ folder\n",
    "create_dir(path_metrics)\n",
    "\n",
    "# creating folder to save model.h5 file\n",
    "folder = 'model'\n",
    "path_model = path_main +'/'+ folder\n",
    "create_dir(path_model)\n",
    "\n",
    "# creating folder to save model.h5 file\n",
    "folder = 'model_checkpoint'\n",
    "path_checkpoint = path_main +'/'+ folder\n",
    "create_dir(path_checkpoint) \n",
    "\n",
    "\n",
    "# image_size \n",
    "SIZE = 227\n",
    "# model parameters\n",
    "FILTERS = 128\n",
    "ACTIVATION = 'tanh'\n",
    "BATCH_SIZE = 5\n",
    "EPOCHS = 200\n",
    "\n",
    "# model name\n",
    "model_name = 'model.h5'\n",
    "\n"
   ]
  },
  {
   "cell_type": "code",
   "execution_count": 6,
   "metadata": {},
   "outputs": [],
   "source": [
    "#path for the image dataset\n",
    "src_path_train = \"../data/ucf_crime/normal_tr.npy\"\n",
    "#src_path_val = \"../data/ucf_crime/normal_val.npy\"\n",
    "#src_path_test = \"data/Anomaly_test.npy\"\n",
    "\n",
    "X_data=np.load(src_path_train)\n",
    "\n",
    "#X_test=np.load(src_path_test)\n",
    "\n",
    "#X_train, X_val = train_test_split(X_data, test_size=0.25, random_state=42)\n",
    "\n",
    "\n",
    "\n",
    "#X_test, y_test = reshape_array(X_test)\n"
   ]
  },
  {
   "cell_type": "code",
   "execution_count": 7,
   "metadata": {},
   "outputs": [
    {
     "name": "stdout",
     "output_type": "stream",
     "text": [
      "(3399, 227, 227, 5, 1)\n"
     ]
    }
   ],
   "source": [
    "X_train, y_train = reshape_array(X_data, BATCH_SIZE)\n",
    "print(X_train.shape)"
   ]
  },
  {
   "cell_type": "code",
   "execution_count": null,
   "metadata": {},
   "outputs": [],
   "source": [
    "#X_val=np.load(src_path_val)"
   ]
  },
  {
   "cell_type": "code",
   "execution_count": null,
   "metadata": {},
   "outputs": [],
   "source": [
    "#X_val, y_val = reshape_array(X_val, BATCH_SIZE)"
   ]
  },
  {
   "cell_type": "code",
   "execution_count": 8,
   "metadata": {},
   "outputs": [],
   "source": [
    "def load_model():\n",
    "    \"\"\"\n",
    "Return the model used for abnormal event \n",
    "detection in videos using spatiotemporal autoencoder\n",
    "\n",
    "\"\"\"\n",
    "    model = Sequential()\n",
    "\n",
    "    model.add(Conv3D(filters=128,kernel_size=(11,11,1),strides=(4,4,1),padding='valid',input_shape=(227,227,5,1),activation='tanh'))\n",
    "    model.add(Conv3D(filters=64,kernel_size=(5,5,1),strides=(2,2,1),padding='valid',activation='tanh'))\n",
    "\n",
    "\n",
    "\n",
    "    model.add(ConvLSTM2D(filters=64,kernel_size=(3,3),strides=1,padding='same',dropout=0.4,recurrent_dropout=0.3,return_sequences=True))\n",
    "\n",
    "\n",
    "    model.add(ConvLSTM2D(filters=32,kernel_size=(3,3),strides=1,padding='same',dropout=0.3,return_sequences=True))\n",
    "\n",
    "\n",
    "    model.add(ConvLSTM2D(filters=64,kernel_size=(3,3),strides=1,return_sequences=True, padding='same',dropout=0.5))\n",
    "\n",
    "\n",
    "\n",
    "\n",
    "    model.add(Conv3DTranspose(filters=128,kernel_size=(5,5,1),strides=(2,2,1),padding='valid',activation='tanh'))\n",
    "    model.add(Conv3DTranspose(filters=1,kernel_size=(11,11,1),strides=(4,4,1),padding='valid',activation='tanh'))\n",
    "\n",
    "    model.compile(optimizer='adam',loss='mean_squared_error',metrics=['accuracy'])\n",
    "\n",
    "    return model"
   ]
  },
  {
   "cell_type": "code",
   "execution_count": 9,
   "metadata": {},
   "outputs": [
    {
     "name": "stdout",
     "output_type": "stream",
     "text": [
      "Model: \"sequential\"\n",
      "_________________________________________________________________\n",
      " Layer (type)                Output Shape              Param #   \n",
      "=================================================================\n",
      " conv3d (Conv3D)             (None, 55, 55, 5, 128)    15616     \n",
      "                                                                 \n",
      " conv3d_1 (Conv3D)           (None, 26, 26, 5, 64)     204864    \n",
      "                                                                 \n",
      " conv_lstm2d (ConvLSTM2D)    (None, 26, 26, 5, 64)     295168    \n",
      "                                                                 \n",
      " conv_lstm2d_1 (ConvLSTM2D)  (None, 26, 26, 5, 32)     110720    \n",
      "                                                                 \n",
      " conv_lstm2d_2 (ConvLSTM2D)  (None, 26, 26, 5, 64)     221440    \n",
      "                                                                 \n",
      " conv3d_transpose (Conv3DTra  (None, 55, 55, 5, 128)   204928    \n",
      " nspose)                                                         \n",
      "                                                                 \n",
      " conv3d_transpose_1 (Conv3DT  (None, 227, 227, 5, 1)   15489     \n",
      " ranspose)                                                       \n",
      "                                                                 \n",
      "=================================================================\n",
      "Total params: 1,068,225\n",
      "Trainable params: 1,068,225\n",
      "Non-trainable params: 0\n",
      "_________________________________________________________________\n"
     ]
    }
   ],
   "source": [
    "Model = load_model()\n",
    "Model.summary()"
   ]
  },
  {
   "cell_type": "code",
   "execution_count": 10,
   "metadata": {},
   "outputs": [],
   "source": [
    "Model.compile(optimizer=keras.optimizers.Adam(0.001), \n",
    "            loss='mean_squared_error',metrics=['accuracy'])\n",
    "\n",
    "cb = [\n",
    "    tf.keras.callbacks.ModelCheckpoint(path_model+'/'+model_name),\n",
    "    tf.keras.callbacks.ModelCheckpoint(path_checkpoint),\n",
    "    tf.keras.callbacks.CSVLogger(path_metrics+'/'+'data.csv'),\n",
    "    tf.keras.callbacks.EarlyStopping(monitor='val_loss', patience=1001, restore_best_weights=False)] "
   ]
  },
  {
   "cell_type": "code",
   "execution_count": 11,
   "metadata": {},
   "outputs": [
    {
     "name": "stdout",
     "output_type": "stream",
     "text": [
      "Epoch 1/200\n"
     ]
    },
    {
     "ename": "NotFoundError",
     "evalue": "Graph execution error:\n\nDetected at node 'sequential/conv3d_transpose/conv3d_transpose' defined at (most recent call last):\n    File \"c:\\Users\\Asus\\anaconda3\\envs\\deepL\\lib\\runpy.py\", line 197, in _run_module_as_main\n      return _run_code(code, main_globals, None,\n    File \"c:\\Users\\Asus\\anaconda3\\envs\\deepL\\lib\\runpy.py\", line 87, in _run_code\n      exec(code, run_globals)\n    File \"c:\\Users\\Asus\\anaconda3\\envs\\deepL\\lib\\site-packages\\ipykernel_launcher.py\", line 17, in <module>\n      app.launch_new_instance()\n    File \"c:\\Users\\Asus\\anaconda3\\envs\\deepL\\lib\\site-packages\\traitlets\\config\\application.py\", line 976, in launch_instance\n      app.start()\n    File \"c:\\Users\\Asus\\anaconda3\\envs\\deepL\\lib\\site-packages\\ipykernel\\kernelapp.py\", line 712, in start\n      self.io_loop.start()\n    File \"c:\\Users\\Asus\\anaconda3\\envs\\deepL\\lib\\site-packages\\tornado\\platform\\asyncio.py\", line 215, in start\n      self.asyncio_loop.run_forever()\n    File \"c:\\Users\\Asus\\anaconda3\\envs\\deepL\\lib\\asyncio\\base_events.py\", line 596, in run_forever\n      self._run_once()\n    File \"c:\\Users\\Asus\\anaconda3\\envs\\deepL\\lib\\asyncio\\base_events.py\", line 1890, in _run_once\n      handle._run()\n    File \"c:\\Users\\Asus\\anaconda3\\envs\\deepL\\lib\\asyncio\\events.py\", line 80, in _run\n      self._context.run(self._callback, *self._args)\n    File \"c:\\Users\\Asus\\anaconda3\\envs\\deepL\\lib\\site-packages\\ipykernel\\kernelbase.py\", line 510, in dispatch_queue\n      await self.process_one()\n    File \"c:\\Users\\Asus\\anaconda3\\envs\\deepL\\lib\\site-packages\\ipykernel\\kernelbase.py\", line 499, in process_one\n      await dispatch(*args)\n    File \"c:\\Users\\Asus\\anaconda3\\envs\\deepL\\lib\\site-packages\\ipykernel\\kernelbase.py\", line 406, in dispatch_shell\n      await result\n    File \"c:\\Users\\Asus\\anaconda3\\envs\\deepL\\lib\\site-packages\\ipykernel\\kernelbase.py\", line 730, in execute_request\n      reply_content = await reply_content\n    File \"c:\\Users\\Asus\\anaconda3\\envs\\deepL\\lib\\site-packages\\ipykernel\\ipkernel.py\", line 383, in do_execute\n      res = shell.run_cell(\n    File \"c:\\Users\\Asus\\anaconda3\\envs\\deepL\\lib\\site-packages\\ipykernel\\zmqshell.py\", line 528, in run_cell\n      return super().run_cell(*args, **kwargs)\n    File \"c:\\Users\\Asus\\anaconda3\\envs\\deepL\\lib\\site-packages\\IPython\\core\\interactiveshell.py\", line 2881, in run_cell\n      result = self._run_cell(\n    File \"c:\\Users\\Asus\\anaconda3\\envs\\deepL\\lib\\site-packages\\IPython\\core\\interactiveshell.py\", line 2936, in _run_cell\n      return runner(coro)\n    File \"c:\\Users\\Asus\\anaconda3\\envs\\deepL\\lib\\site-packages\\IPython\\core\\async_helpers.py\", line 129, in _pseudo_sync_runner\n      coro.send(None)\n    File \"c:\\Users\\Asus\\anaconda3\\envs\\deepL\\lib\\site-packages\\IPython\\core\\interactiveshell.py\", line 3135, in run_cell_async\n      has_raised = await self.run_ast_nodes(code_ast.body, cell_name,\n    File \"c:\\Users\\Asus\\anaconda3\\envs\\deepL\\lib\\site-packages\\IPython\\core\\interactiveshell.py\", line 3338, in run_ast_nodes\n      if await self.run_code(code, result, async_=asy):\n    File \"c:\\Users\\Asus\\anaconda3\\envs\\deepL\\lib\\site-packages\\IPython\\core\\interactiveshell.py\", line 3398, in run_code\n      exec(code_obj, self.user_global_ns, self.user_ns)\n    File \"C:\\Users\\Asus\\AppData\\Local\\Temp\\ipykernel_37200\\1283044488.py\", line 1, in <cell line: 1>\n      history = Model.fit(X_train, y_train,\n    File \"c:\\Users\\Asus\\anaconda3\\envs\\deepL\\lib\\site-packages\\keras\\utils\\traceback_utils.py\", line 64, in error_handler\n      return fn(*args, **kwargs)\n    File \"c:\\Users\\Asus\\anaconda3\\envs\\deepL\\lib\\site-packages\\keras\\engine\\training.py\", line 1409, in fit\n      tmp_logs = self.train_function(iterator)\n    File \"c:\\Users\\Asus\\anaconda3\\envs\\deepL\\lib\\site-packages\\keras\\engine\\training.py\", line 1051, in train_function\n      return step_function(self, iterator)\n    File \"c:\\Users\\Asus\\anaconda3\\envs\\deepL\\lib\\site-packages\\keras\\engine\\training.py\", line 1040, in step_function\n      outputs = model.distribute_strategy.run(run_step, args=(data,))\n    File \"c:\\Users\\Asus\\anaconda3\\envs\\deepL\\lib\\site-packages\\keras\\engine\\training.py\", line 1030, in run_step\n      outputs = model.train_step(data)\n    File \"c:\\Users\\Asus\\anaconda3\\envs\\deepL\\lib\\site-packages\\keras\\engine\\training.py\", line 889, in train_step\n      y_pred = self(x, training=True)\n    File \"c:\\Users\\Asus\\anaconda3\\envs\\deepL\\lib\\site-packages\\keras\\utils\\traceback_utils.py\", line 64, in error_handler\n      return fn(*args, **kwargs)\n    File \"c:\\Users\\Asus\\anaconda3\\envs\\deepL\\lib\\site-packages\\keras\\engine\\training.py\", line 490, in __call__\n      return super().__call__(*args, **kwargs)\n    File \"c:\\Users\\Asus\\anaconda3\\envs\\deepL\\lib\\site-packages\\keras\\utils\\traceback_utils.py\", line 64, in error_handler\n      return fn(*args, **kwargs)\n    File \"c:\\Users\\Asus\\anaconda3\\envs\\deepL\\lib\\site-packages\\keras\\engine\\base_layer.py\", line 1014, in __call__\n      outputs = call_fn(inputs, *args, **kwargs)\n    File \"c:\\Users\\Asus\\anaconda3\\envs\\deepL\\lib\\site-packages\\keras\\utils\\traceback_utils.py\", line 92, in error_handler\n      return fn(*args, **kwargs)\n    File \"c:\\Users\\Asus\\anaconda3\\envs\\deepL\\lib\\site-packages\\keras\\engine\\sequential.py\", line 374, in call\n      return super(Sequential, self).call(inputs, training=training, mask=mask)\n    File \"c:\\Users\\Asus\\anaconda3\\envs\\deepL\\lib\\site-packages\\keras\\engine\\functional.py\", line 458, in call\n      return self._run_internal_graph(\n    File \"c:\\Users\\Asus\\anaconda3\\envs\\deepL\\lib\\site-packages\\keras\\engine\\functional.py\", line 596, in _run_internal_graph\n      outputs = node.layer(*args, **kwargs)\n    File \"c:\\Users\\Asus\\anaconda3\\envs\\deepL\\lib\\site-packages\\keras\\utils\\traceback_utils.py\", line 64, in error_handler\n      return fn(*args, **kwargs)\n    File \"c:\\Users\\Asus\\anaconda3\\envs\\deepL\\lib\\site-packages\\keras\\engine\\base_layer.py\", line 1014, in __call__\n      outputs = call_fn(inputs, *args, **kwargs)\n    File \"c:\\Users\\Asus\\anaconda3\\envs\\deepL\\lib\\site-packages\\keras\\utils\\traceback_utils.py\", line 92, in error_handler\n      return fn(*args, **kwargs)\n    File \"c:\\Users\\Asus\\anaconda3\\envs\\deepL\\lib\\site-packages\\keras\\layers\\convolutional\\conv3d_transpose.py\", line 281, in call\n      outputs = tf.nn.conv3d_transpose(\nNode: 'sequential/conv3d_transpose/conv3d_transpose'\nNo algorithm worked!  Error messages:\n  Profiling failure on CUDNN engine 1#TC: RESOURCE_EXHAUSTED: Out of memory while trying to allocate 99379352 bytes.\n  Profiling failure on CUDNN engine 1: RESOURCE_EXHAUSTED: Out of memory while trying to allocate 16777216 bytes.\n  Profiling failure on CUDNN engine 0#TC: RESOURCE_EXHAUSTED: Out of memory while trying to allocate 16777216 bytes.\n  Profiling failure on CUDNN engine 0: RESOURCE_EXHAUSTED: Out of memory while trying to allocate 16777216 bytes.\n\t [[{{node sequential/conv3d_transpose/conv3d_transpose}}]] [Op:__inference_train_function_12776]",
     "output_type": "error",
     "traceback": [
      "\u001b[1;31m---------------------------------------------------------------------------\u001b[0m",
      "\u001b[1;31mNotFoundError\u001b[0m                             Traceback (most recent call last)",
      "\u001b[1;32mc:\\Users\\Asus\\Desktop\\Jayesh_ML\\Crowd-Anomoly-With-Object-Localization\\notebooks\\3DAnomaly.ipynb Cell 11\u001b[0m in \u001b[0;36m<cell line: 1>\u001b[1;34m()\u001b[0m\n\u001b[1;32m----> <a href='vscode-notebook-cell:/c%3A/Users/Asus/Desktop/Jayesh_ML/Crowd-Anomoly-With-Object-Localization/notebooks/3DAnomaly.ipynb#W5sZmlsZQ%3D%3D?line=0'>1</a>\u001b[0m history \u001b[39m=\u001b[39m Model\u001b[39m.\u001b[39;49mfit(X_train, y_train,\n\u001b[0;32m      <a href='vscode-notebook-cell:/c%3A/Users/Asus/Desktop/Jayesh_ML/Crowd-Anomoly-With-Object-Localization/notebooks/3DAnomaly.ipynb#W5sZmlsZQ%3D%3D?line=1'>2</a>\u001b[0m         batch_size \u001b[39m=\u001b[39;49m BATCH_SIZE, \n\u001b[0;32m      <a href='vscode-notebook-cell:/c%3A/Users/Asus/Desktop/Jayesh_ML/Crowd-Anomoly-With-Object-Localization/notebooks/3DAnomaly.ipynb#W5sZmlsZQ%3D%3D?line=2'>3</a>\u001b[0m         epochs \u001b[39m=\u001b[39;49m EPOCHS,\n\u001b[0;32m      <a href='vscode-notebook-cell:/c%3A/Users/Asus/Desktop/Jayesh_ML/Crowd-Anomoly-With-Object-Localization/notebooks/3DAnomaly.ipynb#W5sZmlsZQ%3D%3D?line=3'>4</a>\u001b[0m         verbose \u001b[39m=\u001b[39;49m \u001b[39m1\u001b[39;49m, \n\u001b[0;32m      <a href='vscode-notebook-cell:/c%3A/Users/Asus/Desktop/Jayesh_ML/Crowd-Anomoly-With-Object-Localization/notebooks/3DAnomaly.ipynb#W5sZmlsZQ%3D%3D?line=4'>5</a>\u001b[0m         validation_split \u001b[39m=\u001b[39;49m \u001b[39m0.25\u001b[39;49m,\n\u001b[0;32m      <a href='vscode-notebook-cell:/c%3A/Users/Asus/Desktop/Jayesh_ML/Crowd-Anomoly-With-Object-Localization/notebooks/3DAnomaly.ipynb#W5sZmlsZQ%3D%3D?line=5'>6</a>\u001b[0m         shuffle\u001b[39m=\u001b[39;49m\u001b[39mTrue\u001b[39;49;00m,\n\u001b[0;32m      <a href='vscode-notebook-cell:/c%3A/Users/Asus/Desktop/Jayesh_ML/Crowd-Anomoly-With-Object-Localization/notebooks/3DAnomaly.ipynb#W5sZmlsZQ%3D%3D?line=6'>7</a>\u001b[0m         callbacks\u001b[39m=\u001b[39;49m[cb])\n",
      "File \u001b[1;32mc:\\Users\\Asus\\anaconda3\\envs\\deepL\\lib\\site-packages\\keras\\utils\\traceback_utils.py:67\u001b[0m, in \u001b[0;36mfilter_traceback.<locals>.error_handler\u001b[1;34m(*args, **kwargs)\u001b[0m\n\u001b[0;32m     65\u001b[0m \u001b[39mexcept\u001b[39;00m \u001b[39mException\u001b[39;00m \u001b[39mas\u001b[39;00m e:  \u001b[39m# pylint: disable=broad-except\u001b[39;00m\n\u001b[0;32m     66\u001b[0m   filtered_tb \u001b[39m=\u001b[39m _process_traceback_frames(e\u001b[39m.\u001b[39m__traceback__)\n\u001b[1;32m---> 67\u001b[0m   \u001b[39mraise\u001b[39;00m e\u001b[39m.\u001b[39mwith_traceback(filtered_tb) \u001b[39mfrom\u001b[39;00m \u001b[39mNone\u001b[39m\n\u001b[0;32m     68\u001b[0m \u001b[39mfinally\u001b[39;00m:\n\u001b[0;32m     69\u001b[0m   \u001b[39mdel\u001b[39;00m filtered_tb\n",
      "File \u001b[1;32mc:\\Users\\Asus\\anaconda3\\envs\\deepL\\lib\\site-packages\\tensorflow\\python\\eager\\execute.py:54\u001b[0m, in \u001b[0;36mquick_execute\u001b[1;34m(op_name, num_outputs, inputs, attrs, ctx, name)\u001b[0m\n\u001b[0;32m     52\u001b[0m \u001b[39mtry\u001b[39;00m:\n\u001b[0;32m     53\u001b[0m   ctx\u001b[39m.\u001b[39mensure_initialized()\n\u001b[1;32m---> 54\u001b[0m   tensors \u001b[39m=\u001b[39m pywrap_tfe\u001b[39m.\u001b[39mTFE_Py_Execute(ctx\u001b[39m.\u001b[39m_handle, device_name, op_name,\n\u001b[0;32m     55\u001b[0m                                       inputs, attrs, num_outputs)\n\u001b[0;32m     56\u001b[0m \u001b[39mexcept\u001b[39;00m core\u001b[39m.\u001b[39m_NotOkStatusException \u001b[39mas\u001b[39;00m e:\n\u001b[0;32m     57\u001b[0m   \u001b[39mif\u001b[39;00m name \u001b[39mis\u001b[39;00m \u001b[39mnot\u001b[39;00m \u001b[39mNone\u001b[39;00m:\n",
      "\u001b[1;31mNotFoundError\u001b[0m: Graph execution error:\n\nDetected at node 'sequential/conv3d_transpose/conv3d_transpose' defined at (most recent call last):\n    File \"c:\\Users\\Asus\\anaconda3\\envs\\deepL\\lib\\runpy.py\", line 197, in _run_module_as_main\n      return _run_code(code, main_globals, None,\n    File \"c:\\Users\\Asus\\anaconda3\\envs\\deepL\\lib\\runpy.py\", line 87, in _run_code\n      exec(code, run_globals)\n    File \"c:\\Users\\Asus\\anaconda3\\envs\\deepL\\lib\\site-packages\\ipykernel_launcher.py\", line 17, in <module>\n      app.launch_new_instance()\n    File \"c:\\Users\\Asus\\anaconda3\\envs\\deepL\\lib\\site-packages\\traitlets\\config\\application.py\", line 976, in launch_instance\n      app.start()\n    File \"c:\\Users\\Asus\\anaconda3\\envs\\deepL\\lib\\site-packages\\ipykernel\\kernelapp.py\", line 712, in start\n      self.io_loop.start()\n    File \"c:\\Users\\Asus\\anaconda3\\envs\\deepL\\lib\\site-packages\\tornado\\platform\\asyncio.py\", line 215, in start\n      self.asyncio_loop.run_forever()\n    File \"c:\\Users\\Asus\\anaconda3\\envs\\deepL\\lib\\asyncio\\base_events.py\", line 596, in run_forever\n      self._run_once()\n    File \"c:\\Users\\Asus\\anaconda3\\envs\\deepL\\lib\\asyncio\\base_events.py\", line 1890, in _run_once\n      handle._run()\n    File \"c:\\Users\\Asus\\anaconda3\\envs\\deepL\\lib\\asyncio\\events.py\", line 80, in _run\n      self._context.run(self._callback, *self._args)\n    File \"c:\\Users\\Asus\\anaconda3\\envs\\deepL\\lib\\site-packages\\ipykernel\\kernelbase.py\", line 510, in dispatch_queue\n      await self.process_one()\n    File \"c:\\Users\\Asus\\anaconda3\\envs\\deepL\\lib\\site-packages\\ipykernel\\kernelbase.py\", line 499, in process_one\n      await dispatch(*args)\n    File \"c:\\Users\\Asus\\anaconda3\\envs\\deepL\\lib\\site-packages\\ipykernel\\kernelbase.py\", line 406, in dispatch_shell\n      await result\n    File \"c:\\Users\\Asus\\anaconda3\\envs\\deepL\\lib\\site-packages\\ipykernel\\kernelbase.py\", line 730, in execute_request\n      reply_content = await reply_content\n    File \"c:\\Users\\Asus\\anaconda3\\envs\\deepL\\lib\\site-packages\\ipykernel\\ipkernel.py\", line 383, in do_execute\n      res = shell.run_cell(\n    File \"c:\\Users\\Asus\\anaconda3\\envs\\deepL\\lib\\site-packages\\ipykernel\\zmqshell.py\", line 528, in run_cell\n      return super().run_cell(*args, **kwargs)\n    File \"c:\\Users\\Asus\\anaconda3\\envs\\deepL\\lib\\site-packages\\IPython\\core\\interactiveshell.py\", line 2881, in run_cell\n      result = self._run_cell(\n    File \"c:\\Users\\Asus\\anaconda3\\envs\\deepL\\lib\\site-packages\\IPython\\core\\interactiveshell.py\", line 2936, in _run_cell\n      return runner(coro)\n    File \"c:\\Users\\Asus\\anaconda3\\envs\\deepL\\lib\\site-packages\\IPython\\core\\async_helpers.py\", line 129, in _pseudo_sync_runner\n      coro.send(None)\n    File \"c:\\Users\\Asus\\anaconda3\\envs\\deepL\\lib\\site-packages\\IPython\\core\\interactiveshell.py\", line 3135, in run_cell_async\n      has_raised = await self.run_ast_nodes(code_ast.body, cell_name,\n    File \"c:\\Users\\Asus\\anaconda3\\envs\\deepL\\lib\\site-packages\\IPython\\core\\interactiveshell.py\", line 3338, in run_ast_nodes\n      if await self.run_code(code, result, async_=asy):\n    File \"c:\\Users\\Asus\\anaconda3\\envs\\deepL\\lib\\site-packages\\IPython\\core\\interactiveshell.py\", line 3398, in run_code\n      exec(code_obj, self.user_global_ns, self.user_ns)\n    File \"C:\\Users\\Asus\\AppData\\Local\\Temp\\ipykernel_37200\\1283044488.py\", line 1, in <cell line: 1>\n      history = Model.fit(X_train, y_train,\n    File \"c:\\Users\\Asus\\anaconda3\\envs\\deepL\\lib\\site-packages\\keras\\utils\\traceback_utils.py\", line 64, in error_handler\n      return fn(*args, **kwargs)\n    File \"c:\\Users\\Asus\\anaconda3\\envs\\deepL\\lib\\site-packages\\keras\\engine\\training.py\", line 1409, in fit\n      tmp_logs = self.train_function(iterator)\n    File \"c:\\Users\\Asus\\anaconda3\\envs\\deepL\\lib\\site-packages\\keras\\engine\\training.py\", line 1051, in train_function\n      return step_function(self, iterator)\n    File \"c:\\Users\\Asus\\anaconda3\\envs\\deepL\\lib\\site-packages\\keras\\engine\\training.py\", line 1040, in step_function\n      outputs = model.distribute_strategy.run(run_step, args=(data,))\n    File \"c:\\Users\\Asus\\anaconda3\\envs\\deepL\\lib\\site-packages\\keras\\engine\\training.py\", line 1030, in run_step\n      outputs = model.train_step(data)\n    File \"c:\\Users\\Asus\\anaconda3\\envs\\deepL\\lib\\site-packages\\keras\\engine\\training.py\", line 889, in train_step\n      y_pred = self(x, training=True)\n    File \"c:\\Users\\Asus\\anaconda3\\envs\\deepL\\lib\\site-packages\\keras\\utils\\traceback_utils.py\", line 64, in error_handler\n      return fn(*args, **kwargs)\n    File \"c:\\Users\\Asus\\anaconda3\\envs\\deepL\\lib\\site-packages\\keras\\engine\\training.py\", line 490, in __call__\n      return super().__call__(*args, **kwargs)\n    File \"c:\\Users\\Asus\\anaconda3\\envs\\deepL\\lib\\site-packages\\keras\\utils\\traceback_utils.py\", line 64, in error_handler\n      return fn(*args, **kwargs)\n    File \"c:\\Users\\Asus\\anaconda3\\envs\\deepL\\lib\\site-packages\\keras\\engine\\base_layer.py\", line 1014, in __call__\n      outputs = call_fn(inputs, *args, **kwargs)\n    File \"c:\\Users\\Asus\\anaconda3\\envs\\deepL\\lib\\site-packages\\keras\\utils\\traceback_utils.py\", line 92, in error_handler\n      return fn(*args, **kwargs)\n    File \"c:\\Users\\Asus\\anaconda3\\envs\\deepL\\lib\\site-packages\\keras\\engine\\sequential.py\", line 374, in call\n      return super(Sequential, self).call(inputs, training=training, mask=mask)\n    File \"c:\\Users\\Asus\\anaconda3\\envs\\deepL\\lib\\site-packages\\keras\\engine\\functional.py\", line 458, in call\n      return self._run_internal_graph(\n    File \"c:\\Users\\Asus\\anaconda3\\envs\\deepL\\lib\\site-packages\\keras\\engine\\functional.py\", line 596, in _run_internal_graph\n      outputs = node.layer(*args, **kwargs)\n    File \"c:\\Users\\Asus\\anaconda3\\envs\\deepL\\lib\\site-packages\\keras\\utils\\traceback_utils.py\", line 64, in error_handler\n      return fn(*args, **kwargs)\n    File \"c:\\Users\\Asus\\anaconda3\\envs\\deepL\\lib\\site-packages\\keras\\engine\\base_layer.py\", line 1014, in __call__\n      outputs = call_fn(inputs, *args, **kwargs)\n    File \"c:\\Users\\Asus\\anaconda3\\envs\\deepL\\lib\\site-packages\\keras\\utils\\traceback_utils.py\", line 92, in error_handler\n      return fn(*args, **kwargs)\n    File \"c:\\Users\\Asus\\anaconda3\\envs\\deepL\\lib\\site-packages\\keras\\layers\\convolutional\\conv3d_transpose.py\", line 281, in call\n      outputs = tf.nn.conv3d_transpose(\nNode: 'sequential/conv3d_transpose/conv3d_transpose'\nNo algorithm worked!  Error messages:\n  Profiling failure on CUDNN engine 1#TC: RESOURCE_EXHAUSTED: Out of memory while trying to allocate 99379352 bytes.\n  Profiling failure on CUDNN engine 1: RESOURCE_EXHAUSTED: Out of memory while trying to allocate 16777216 bytes.\n  Profiling failure on CUDNN engine 0#TC: RESOURCE_EXHAUSTED: Out of memory while trying to allocate 16777216 bytes.\n  Profiling failure on CUDNN engine 0: RESOURCE_EXHAUSTED: Out of memory while trying to allocate 16777216 bytes.\n\t [[{{node sequential/conv3d_transpose/conv3d_transpose}}]] [Op:__inference_train_function_12776]"
     ]
    }
   ],
   "source": [
    "history = Model.fit(X_train, y_train,\n",
    "        batch_size = BATCH_SIZE, \n",
    "        epochs = EPOCHS,\n",
    "        verbose = 1, \n",
    "        validation_split = 0.25,\n",
    "        shuffle=True,\n",
    "        callbacks=[cb])\n",
    "# validation_data = (X_val, y_val)"
   ]
  },
  {
   "cell_type": "code",
   "execution_count": null,
   "metadata": {},
   "outputs": [],
   "source": [
    "# save the model\n",
    "\n",
    "Model.save(path_model+'/'+'model.h5')"
   ]
  },
  {
   "cell_type": "code",
   "execution_count": null,
   "metadata": {},
   "outputs": [],
   "source": [
    "#calculating losses!\n",
    "\n",
    "#train_loss, train_acc = Model.evaluate(X_train, y_train)\n",
    "#print('\\n','Evaluation of Training dataset:','\\n''\\n','train_loss:',round(train_loss,3),'\\n','train_acc:',round(train_acc,3),'\\n')\n",
    "\n",
    "val_loss, val_acc = Model.evaluate(X_val, y_val)\n",
    "print('\\n','Evaluation of Validation dataset:','\\n''\\n','val_loss:',round(val_loss,3),'\\n','val_acc:',round(val_acc,3),'\\n')\n",
    "\n",
    "# test_loss, test_acc = model.evaluate(X_test, y_test)\n",
    "# print('\\n','Evaluation of Testing dataset:','\\n''\\n','test_loss:',round(test_loss,3),'\\n','test_acc:',round(test_acc,3),'\\n')\n",
    "\n",
    "# reading the data.csv where all the epoch training scores are stored\n",
    "df = pd.read_csv(path_metrics+'/'+'data.csv')   \n",
    "\n",
    "metricplot(df, 'epoch', 'loss','val_loss', path_metrics)\n",
    "metricplot(df, 'epoch', 'accuracy','val_accuracy', path_metrics)"
   ]
  }
 ],
 "metadata": {
  "kernelspec": {
   "display_name": "Python 3.9.7 ('deepL')",
   "language": "python",
   "name": "python3"
  },
  "language_info": {
   "codemirror_mode": {
    "name": "ipython",
    "version": 3
   },
   "file_extension": ".py",
   "mimetype": "text/x-python",
   "name": "python",
   "nbconvert_exporter": "python",
   "pygments_lexer": "ipython3",
   "version": "3.9.7"
  },
  "orig_nbformat": 4,
  "vscode": {
   "interpreter": {
    "hash": "b90cab7ea642421f44636989edaf96d86cb1abe354b45ce6eed3b362842c2584"
   }
  }
 },
 "nbformat": 4,
 "nbformat_minor": 2
}
